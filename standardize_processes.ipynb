{
 "cells": [
  {
   "cell_type": "markdown",
   "metadata": {},
   "source": [
    "## Notebook to check final files and make sure things are standardized.\n",
    "\n",
    "- #### Office Name\n",
    "- #### Party"
   ]
  },
  {
   "cell_type": "code",
   "execution_count": 1,
   "metadata": {},
   "outputs": [],
   "source": [
    "import glob\n",
    "import os\n",
    "\n",
    "import pandas as pd"
   ]
  },
  {
   "cell_type": "markdown",
   "metadata": {},
   "source": [
    "### This is pulling in all files from a particular year"
   ]
  },
  {
   "cell_type": "code",
   "execution_count": 35,
   "metadata": {},
   "outputs": [],
   "source": [
    "df = pd.concat(map(pd.read_csv, glob.glob(os.path.join('2006', \"*.csv\"))), sort=True)"
   ]
  },
  {
   "cell_type": "code",
   "execution_count": 36,
   "metadata": {},
   "outputs": [
    {
     "data": {
      "text/html": [
       "<div>\n",
       "<style scoped>\n",
       "    .dataframe tbody tr th:only-of-type {\n",
       "        vertical-align: middle;\n",
       "    }\n",
       "\n",
       "    .dataframe tbody tr th {\n",
       "        vertical-align: top;\n",
       "    }\n",
       "\n",
       "    .dataframe thead th {\n",
       "        text-align: right;\n",
       "    }\n",
       "</style>\n",
       "<table border=\"1\" class=\"dataframe\">\n",
       "  <thead>\n",
       "    <tr style=\"text-align: right;\">\n",
       "      <th></th>\n",
       "      <th>candidate</th>\n",
       "      <th>county</th>\n",
       "      <th>district</th>\n",
       "      <th>party</th>\n",
       "      <th>votes</th>\n",
       "    </tr>\n",
       "    <tr>\n",
       "      <th>office</th>\n",
       "      <th></th>\n",
       "      <th></th>\n",
       "      <th></th>\n",
       "      <th></th>\n",
       "      <th></th>\n",
       "    </tr>\n",
       "  </thead>\n",
       "  <tbody>\n",
       "    <tr>\n",
       "      <th>Attorney General</th>\n",
       "      <td>636</td>\n",
       "      <td>636</td>\n",
       "      <td>0</td>\n",
       "      <td>636</td>\n",
       "      <td>636</td>\n",
       "    </tr>\n",
       "    <tr>\n",
       "      <th>Commissioner of Agriculture</th>\n",
       "      <td>1590</td>\n",
       "      <td>1590</td>\n",
       "      <td>0</td>\n",
       "      <td>1590</td>\n",
       "      <td>1590</td>\n",
       "    </tr>\n",
       "    <tr>\n",
       "      <th>Commissioner of Insurance</th>\n",
       "      <td>636</td>\n",
       "      <td>636</td>\n",
       "      <td>0</td>\n",
       "      <td>636</td>\n",
       "      <td>636</td>\n",
       "    </tr>\n",
       "    <tr>\n",
       "      <th>Commissioner of Labor</th>\n",
       "      <td>795</td>\n",
       "      <td>795</td>\n",
       "      <td>0</td>\n",
       "      <td>795</td>\n",
       "      <td>795</td>\n",
       "    </tr>\n",
       "    <tr>\n",
       "      <th>Governor</th>\n",
       "      <td>1433</td>\n",
       "      <td>1431</td>\n",
       "      <td>0</td>\n",
       "      <td>1433</td>\n",
       "      <td>1433</td>\n",
       "    </tr>\n",
       "    <tr>\n",
       "      <th>Lieutenant Governor</th>\n",
       "      <td>1909</td>\n",
       "      <td>1908</td>\n",
       "      <td>0</td>\n",
       "      <td>1909</td>\n",
       "      <td>1909</td>\n",
       "    </tr>\n",
       "    <tr>\n",
       "      <th>Public Service Commissioner</th>\n",
       "      <td>2226</td>\n",
       "      <td>2226</td>\n",
       "      <td>2226</td>\n",
       "      <td>2226</td>\n",
       "      <td>2226</td>\n",
       "    </tr>\n",
       "    <tr>\n",
       "      <th>Secretary of State</th>\n",
       "      <td>2703</td>\n",
       "      <td>2703</td>\n",
       "      <td>0</td>\n",
       "      <td>2703</td>\n",
       "      <td>2703</td>\n",
       "    </tr>\n",
       "    <tr>\n",
       "      <th>State House</th>\n",
       "      <td>1078</td>\n",
       "      <td>1076</td>\n",
       "      <td>1078</td>\n",
       "      <td>1076</td>\n",
       "      <td>1078</td>\n",
       "    </tr>\n",
       "    <tr>\n",
       "      <th>State School Superintendent</th>\n",
       "      <td>1114</td>\n",
       "      <td>1113</td>\n",
       "      <td>0</td>\n",
       "      <td>1114</td>\n",
       "      <td>1114</td>\n",
       "    </tr>\n",
       "    <tr>\n",
       "      <th>State Senate</th>\n",
       "      <td>662</td>\n",
       "      <td>661</td>\n",
       "      <td>662</td>\n",
       "      <td>662</td>\n",
       "      <td>662</td>\n",
       "    </tr>\n",
       "    <tr>\n",
       "      <th>Supreme Court Justice</th>\n",
       "      <td>795</td>\n",
       "      <td>795</td>\n",
       "      <td>0</td>\n",
       "      <td>795</td>\n",
       "      <td>795</td>\n",
       "    </tr>\n",
       "    <tr>\n",
       "      <th>U.S. House</th>\n",
       "      <td>780</td>\n",
       "      <td>776</td>\n",
       "      <td>780</td>\n",
       "      <td>780</td>\n",
       "      <td>780</td>\n",
       "    </tr>\n",
       "  </tbody>\n",
       "</table>\n",
       "</div>"
      ],
      "text/plain": [
       "                             candidate  county  district  party  votes\n",
       "office                                                                \n",
       "Attorney General                   636     636         0    636    636\n",
       "Commissioner of Agriculture       1590    1590         0   1590   1590\n",
       "Commissioner of Insurance          636     636         0    636    636\n",
       "Commissioner of Labor              795     795         0    795    795\n",
       "Governor                          1433    1431         0   1433   1433\n",
       "Lieutenant Governor               1909    1908         0   1909   1909\n",
       "Public Service Commissioner       2226    2226      2226   2226   2226\n",
       "Secretary of State                2703    2703         0   2703   2703\n",
       "State House                       1078    1076      1078   1076   1078\n",
       "State School Superintendent       1114    1113         0   1114   1114\n",
       "State Senate                       662     661       662    662    662\n",
       "Supreme Court Justice              795     795         0    795    795\n",
       "U.S. House                         780     776       780    780    780"
      ]
     },
     "execution_count": 36,
     "metadata": {},
     "output_type": "execute_result"
    }
   ],
   "source": [
    "df.groupby('office').count()"
   ]
  },
  {
   "cell_type": "code",
   "execution_count": 37,
   "metadata": {},
   "outputs": [
    {
     "data": {
      "text/html": [
       "<div>\n",
       "<style scoped>\n",
       "    .dataframe tbody tr th:only-of-type {\n",
       "        vertical-align: middle;\n",
       "    }\n",
       "\n",
       "    .dataframe tbody tr th {\n",
       "        vertical-align: top;\n",
       "    }\n",
       "\n",
       "    .dataframe thead th {\n",
       "        text-align: right;\n",
       "    }\n",
       "</style>\n",
       "<table border=\"1\" class=\"dataframe\">\n",
       "  <thead>\n",
       "    <tr style=\"text-align: right;\">\n",
       "      <th></th>\n",
       "      <th>candidate</th>\n",
       "      <th>county</th>\n",
       "      <th>district</th>\n",
       "      <th>office</th>\n",
       "      <th>votes</th>\n",
       "    </tr>\n",
       "    <tr>\n",
       "      <th>party</th>\n",
       "      <th></th>\n",
       "      <th></th>\n",
       "      <th></th>\n",
       "      <th></th>\n",
       "      <th></th>\n",
       "    </tr>\n",
       "  </thead>\n",
       "  <tbody>\n",
       "    <tr>\n",
       "      <th>Democrat</th>\n",
       "      <td>7233</td>\n",
       "      <td>7233</td>\n",
       "      <td>1986</td>\n",
       "      <td>7233</td>\n",
       "      <td>7233</td>\n",
       "    </tr>\n",
       "    <tr>\n",
       "      <th>Libertarian</th>\n",
       "      <td>1113</td>\n",
       "      <td>1113</td>\n",
       "      <td>318</td>\n",
       "      <td>1113</td>\n",
       "      <td>1113</td>\n",
       "    </tr>\n",
       "    <tr>\n",
       "      <th>Non-Partisan</th>\n",
       "      <td>795</td>\n",
       "      <td>795</td>\n",
       "      <td>0</td>\n",
       "      <td>795</td>\n",
       "      <td>795</td>\n",
       "    </tr>\n",
       "    <tr>\n",
       "      <th>Republican</th>\n",
       "      <td>7203</td>\n",
       "      <td>7203</td>\n",
       "      <td>2433</td>\n",
       "      <td>7203</td>\n",
       "      <td>7203</td>\n",
       "    </tr>\n",
       "    <tr>\n",
       "      <th>Write-In</th>\n",
       "      <td>11</td>\n",
       "      <td>0</td>\n",
       "      <td>7</td>\n",
       "      <td>11</td>\n",
       "      <td>11</td>\n",
       "    </tr>\n",
       "  </tbody>\n",
       "</table>\n",
       "</div>"
      ],
      "text/plain": [
       "              candidate  county  district  office  votes\n",
       "party                                                   \n",
       "Democrat           7233    7233      1986    7233   7233\n",
       "Libertarian        1113    1113       318    1113   1113\n",
       "Non-Partisan        795     795         0     795    795\n",
       "Republican         7203    7203      2433    7203   7203\n",
       "Write-In             11       0         7      11     11"
      ]
     },
     "execution_count": 37,
     "metadata": {},
     "output_type": "execute_result"
    }
   ],
   "source": [
    "df.groupby('party').count()"
   ]
  },
  {
   "cell_type": "code",
   "execution_count": null,
   "metadata": {},
   "outputs": [],
   "source": []
  },
  {
   "cell_type": "markdown",
   "metadata": {},
   "source": [
    "### Here we start to standardize things"
   ]
  },
  {
   "cell_type": "code",
   "execution_count": 38,
   "metadata": {},
   "outputs": [
    {
     "name": "stdout",
     "output_type": "stream",
     "text": [
      "20060718__ga__primary.csv          20061205__ga__general__runoff.csv\r\n",
      "20060808__ga__primary__runoff.csv  \u001b[34mcode\u001b[m\u001b[m/\r\n",
      "20061107__ga__general.csv\r\n"
     ]
    }
   ],
   "source": [
    "ls 2006"
   ]
  },
  {
   "cell_type": "code",
   "execution_count": 45,
   "metadata": {},
   "outputs": [],
   "source": [
    "file_name = '2006/20061107__ga__general.csv'"
   ]
  },
  {
   "cell_type": "code",
   "execution_count": 46,
   "metadata": {},
   "outputs": [],
   "source": [
    "df = pd.read_csv(file_name)"
   ]
  },
  {
   "cell_type": "code",
   "execution_count": 49,
   "metadata": {},
   "outputs": [
    {
     "data": {
      "text/html": [
       "<div>\n",
       "<style scoped>\n",
       "    .dataframe tbody tr th:only-of-type {\n",
       "        vertical-align: middle;\n",
       "    }\n",
       "\n",
       "    .dataframe tbody tr th {\n",
       "        vertical-align: top;\n",
       "    }\n",
       "\n",
       "    .dataframe thead th {\n",
       "        text-align: right;\n",
       "    }\n",
       "</style>\n",
       "<table border=\"1\" class=\"dataframe\">\n",
       "  <thead>\n",
       "    <tr style=\"text-align: right;\">\n",
       "      <th></th>\n",
       "      <th>county</th>\n",
       "      <th>office</th>\n",
       "      <th>district</th>\n",
       "      <th>candidate</th>\n",
       "      <th>votes</th>\n",
       "    </tr>\n",
       "    <tr>\n",
       "      <th>party</th>\n",
       "      <th></th>\n",
       "      <th></th>\n",
       "      <th></th>\n",
       "      <th></th>\n",
       "      <th></th>\n",
       "    </tr>\n",
       "  </thead>\n",
       "  <tbody>\n",
       "    <tr>\n",
       "      <th>Democrat</th>\n",
       "      <td>2117</td>\n",
       "      <td>2117</td>\n",
       "      <td>845</td>\n",
       "      <td>2117</td>\n",
       "      <td>2117</td>\n",
       "    </tr>\n",
       "    <tr>\n",
       "      <th>Libertarian</th>\n",
       "      <td>1113</td>\n",
       "      <td>1113</td>\n",
       "      <td>318</td>\n",
       "      <td>1113</td>\n",
       "      <td>1113</td>\n",
       "    </tr>\n",
       "    <tr>\n",
       "      <th>Nonpartisan</th>\n",
       "      <td>795</td>\n",
       "      <td>795</td>\n",
       "      <td>0</td>\n",
       "      <td>795</td>\n",
       "      <td>795</td>\n",
       "    </tr>\n",
       "    <tr>\n",
       "      <th>Republican</th>\n",
       "      <td>2205</td>\n",
       "      <td>2205</td>\n",
       "      <td>933</td>\n",
       "      <td>2205</td>\n",
       "      <td>2205</td>\n",
       "    </tr>\n",
       "    <tr>\n",
       "      <th>Write-In</th>\n",
       "      <td>0</td>\n",
       "      <td>11</td>\n",
       "      <td>7</td>\n",
       "      <td>11</td>\n",
       "      <td>11</td>\n",
       "    </tr>\n",
       "  </tbody>\n",
       "</table>\n",
       "</div>"
      ],
      "text/plain": [
       "             county  office  district  candidate  votes\n",
       "party                                                  \n",
       "Democrat       2117    2117       845       2117   2117\n",
       "Libertarian    1113    1113       318       1113   1113\n",
       "Nonpartisan     795     795         0        795    795\n",
       "Republican     2205    2205       933       2205   2205\n",
       "Write-In          0      11         7         11     11"
      ]
     },
     "execution_count": 49,
     "metadata": {},
     "output_type": "execute_result"
    }
   ],
   "source": [
    "df.groupby(['party']).count()"
   ]
  },
  {
   "cell_type": "code",
   "execution_count": 48,
   "metadata": {},
   "outputs": [],
   "source": [
    "# Democrat\n",
    "# Republican\n",
    "# Libertarian\n",
    "# Independent\n",
    "# Nonpartisan\n",
    "# Green\n",
    "# Write-In\n",
    "# Unknown\n",
    "\n",
    "df.loc[df.party == 'Democratic', 'party'] = 'Democrat'\n",
    "df.loc[df.party == 'Non-Partisan', 'party'] = 'Nonpartisan'\n",
    "\n",
    "df.loc[df.party == 'Republian', 'party'] = 'Republican'\n",
    "\n",
    "\n",
    "df.loc[df.party == 'D', 'party'] = 'Democrat'\n",
    "df.loc[df.party == 'Lib', 'party'] = 'Libertarian'\n",
    "df.loc[df.party == 'R', 'party'] = 'Republican'"
   ]
  },
  {
   "cell_type": "code",
   "execution_count": null,
   "metadata": {},
   "outputs": [],
   "source": [
    "df.groupby(['office']).count()"
   ]
  },
  {
   "cell_type": "code",
   "execution_count": null,
   "metadata": {},
   "outputs": [],
   "source": [
    "df.loc[df.office == 'Agriculture Commissioner', 'office'] = 'Commissioner of Agriculture'"
   ]
  },
  {
   "cell_type": "code",
   "execution_count": null,
   "metadata": {},
   "outputs": [],
   "source": [
    "df.loc[df.office == 'Insurance Commissioner', 'office'] = 'Commissioner of Insurance'"
   ]
  },
  {
   "cell_type": "code",
   "execution_count": null,
   "metadata": {},
   "outputs": [],
   "source": [
    "df.loc[df.office == 'Public Service Commission', 'office'] = 'Public Service Commissioner'"
   ]
  },
  {
   "cell_type": "code",
   "execution_count": null,
   "metadata": {},
   "outputs": [],
   "source": [
    "df.loc[df.office == 'Commissioner Of Agriculture', 'office'] = 'Commissioner of Agriculture'\n",
    "df.loc[df.office == 'Commissioner Of Insurance', 'office'] = 'Commissioner of Insurance'\n",
    "df.loc[df.office == 'Commissioner Of Labor', 'office'] = 'Commissioner of Labor'"
   ]
  },
  {
   "cell_type": "code",
   "execution_count": null,
   "metadata": {},
   "outputs": [],
   "source": [
    "df.loc[df.office == 'Judge Of The Court Of Appeals', 'office'] = 'Judge of the Court of Appeals'\n",
    "df.loc[df.office == 'Justice Of The Supreme Court', 'office'] = 'Justice of the Supreme Court'"
   ]
  },
  {
   "cell_type": "code",
   "execution_count": null,
   "metadata": {},
   "outputs": [],
   "source": [
    "df.loc[df.office == 'Justice of the Supreme Court', 'office'] = 'Supreme Court Justice'"
   ]
  },
  {
   "cell_type": "code",
   "execution_count": null,
   "metadata": {},
   "outputs": [],
   "source": [
    "df.loc[df.office == 'Judge of the Court of Appeals', 'office'] = 'Appeals Court Judge'"
   ]
  },
  {
   "cell_type": "code",
   "execution_count": null,
   "metadata": {},
   "outputs": [],
   "source": [
    "df.loc[df.office == 'State Representative', 'office'] = 'State House'"
   ]
  },
  {
   "cell_type": "code",
   "execution_count": null,
   "metadata": {},
   "outputs": [],
   "source": [
    "df.loc[df.office == 'State Senator', 'office'] = 'State Senate'"
   ]
  },
  {
   "cell_type": "code",
   "execution_count": null,
   "metadata": {},
   "outputs": [],
   "source": [
    "df.loc[df.office == 'U.S. Representative', 'office'] = 'U.S. House'"
   ]
  },
  {
   "cell_type": "code",
   "execution_count": null,
   "metadata": {},
   "outputs": [],
   "source": [
    "df.loc[df.office == 'US Senate', 'office'] = 'U.S. Senate'"
   ]
  },
  {
   "cell_type": "code",
   "execution_count": null,
   "metadata": {},
   "outputs": [],
   "source": [
    "df.loc[df.office == 'Vice-President', 'office'] = 'Vice President'"
   ]
  },
  {
   "cell_type": "markdown",
   "metadata": {},
   "source": [
    "### Here we are checking data and writing back out to csv file"
   ]
  },
  {
   "cell_type": "code",
   "execution_count": 50,
   "metadata": {},
   "outputs": [
    {
     "name": "stdout",
     "output_type": "stream",
     "text": [
      "<class 'pandas.core.frame.DataFrame'>\n",
      "RangeIndex: 6243 entries, 0 to 6242\n",
      "Data columns (total 6 columns):\n",
      "county       6232 non-null object\n",
      "office       6243 non-null object\n",
      "district     2105 non-null float64\n",
      "party        6241 non-null object\n",
      "candidate    6243 non-null object\n",
      "votes        6243 non-null int64\n",
      "dtypes: float64(1), int64(1), object(4)\n",
      "memory usage: 292.8+ KB\n"
     ]
    }
   ],
   "source": [
    "df.info()"
   ]
  },
  {
   "cell_type": "code",
   "execution_count": 51,
   "metadata": {},
   "outputs": [],
   "source": [
    "df.district = df.district.astype(pd.Int64Dtype())"
   ]
  },
  {
   "cell_type": "code",
   "execution_count": 52,
   "metadata": {},
   "outputs": [],
   "source": [
    "df.candidate = df.candidate.str.strip()"
   ]
  },
  {
   "cell_type": "code",
   "execution_count": 55,
   "metadata": {},
   "outputs": [
    {
     "name": "stdout",
     "output_type": "stream",
     "text": [
      "<class 'pandas.core.frame.DataFrame'>\n",
      "RangeIndex: 6243 entries, 0 to 6242\n",
      "Data columns (total 6 columns):\n",
      "county       6232 non-null object\n",
      "office       6243 non-null object\n",
      "district     2105 non-null Int64\n",
      "party        6241 non-null object\n",
      "candidate    6243 non-null object\n",
      "votes        6243 non-null int64\n",
      "dtypes: Int64(1), int64(1), object(4)\n",
      "memory usage: 298.9+ KB\n"
     ]
    }
   ],
   "source": [
    "df.info()"
   ]
  },
  {
   "cell_type": "code",
   "execution_count": 56,
   "metadata": {},
   "outputs": [],
   "source": [
    "df[['county', 'office', 'district', 'party', 'candidate', 'votes']].to_csv(file_name, index=False)"
   ]
  },
  {
   "cell_type": "code",
   "execution_count": null,
   "metadata": {},
   "outputs": [],
   "source": []
  }
 ],
 "metadata": {
  "kernelspec": {
   "display_name": "Python 3",
   "language": "python",
   "name": "python3"
  },
  "language_info": {
   "codemirror_mode": {
    "name": "ipython",
    "version": 3
   },
   "file_extension": ".py",
   "mimetype": "text/x-python",
   "name": "python",
   "nbconvert_exporter": "python",
   "pygments_lexer": "ipython3",
   "version": "3.7.4"
  }
 },
 "nbformat": 4,
 "nbformat_minor": 2
}
