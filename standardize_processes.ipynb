{
 "cells": [
  {
   "cell_type": "markdown",
   "metadata": {},
   "source": [
    "## Notebook to check final files and make sure things are standardized.\n",
    "\n",
    "- #### Office Name\n",
    "- #### Party"
   ]
  },
  {
   "cell_type": "code",
   "execution_count": 1,
   "metadata": {},
   "outputs": [],
   "source": [
    "import glob\n",
    "import os\n",
    "\n",
    "import pandas as pd"
   ]
  },
  {
   "cell_type": "markdown",
   "metadata": {},
   "source": [
    "### This is pulling in all files from a particular year"
   ]
  },
  {
   "cell_type": "code",
   "execution_count": 5,
   "metadata": {},
   "outputs": [],
   "source": [
    "df = pd.concat(map(pd.read_csv, glob.glob(os.path.join('2012', \"*.csv\"))), sort=True)"
   ]
  },
  {
   "cell_type": "code",
   "execution_count": 6,
   "metadata": {},
   "outputs": [
    {
     "data": {
      "text/html": [
       "<div>\n",
       "<style scoped>\n",
       "    .dataframe tbody tr th:only-of-type {\n",
       "        vertical-align: middle;\n",
       "    }\n",
       "\n",
       "    .dataframe tbody tr th {\n",
       "        vertical-align: top;\n",
       "    }\n",
       "\n",
       "    .dataframe thead th {\n",
       "        text-align: right;\n",
       "    }\n",
       "</style>\n",
       "<table border=\"1\" class=\"dataframe\">\n",
       "  <thead>\n",
       "    <tr style=\"text-align: right;\">\n",
       "      <th></th>\n",
       "      <th>absentee_by_mail_votes</th>\n",
       "      <th>advanced_votes</th>\n",
       "      <th>candidate</th>\n",
       "      <th>county</th>\n",
       "      <th>district</th>\n",
       "      <th>election_day_votes</th>\n",
       "      <th>party</th>\n",
       "      <th>precinct</th>\n",
       "      <th>provisional_votes</th>\n",
       "      <th>votes</th>\n",
       "    </tr>\n",
       "    <tr>\n",
       "      <th>office</th>\n",
       "      <th></th>\n",
       "      <th></th>\n",
       "      <th></th>\n",
       "      <th></th>\n",
       "      <th></th>\n",
       "      <th></th>\n",
       "      <th></th>\n",
       "      <th></th>\n",
       "      <th></th>\n",
       "      <th></th>\n",
       "    </tr>\n",
       "  </thead>\n",
       "  <tbody>\n",
       "    <tr>\n",
       "      <th>Appeals Court Judge</th>\n",
       "      <td>27560</td>\n",
       "      <td>27560</td>\n",
       "      <td>27560</td>\n",
       "      <td>27560</td>\n",
       "      <td>27560</td>\n",
       "      <td>27560</td>\n",
       "      <td>27560</td>\n",
       "      <td>27560</td>\n",
       "      <td>27560</td>\n",
       "      <td>0</td>\n",
       "    </tr>\n",
       "    <tr>\n",
       "      <th>District Attorney</th>\n",
       "      <td>6570</td>\n",
       "      <td>6570</td>\n",
       "      <td>6570</td>\n",
       "      <td>6570</td>\n",
       "      <td>6570</td>\n",
       "      <td>6570</td>\n",
       "      <td>6570</td>\n",
       "      <td>6570</td>\n",
       "      <td>6570</td>\n",
       "      <td>0</td>\n",
       "    </tr>\n",
       "    <tr>\n",
       "      <th>President</th>\n",
       "      <td>8457</td>\n",
       "      <td>8457</td>\n",
       "      <td>10047</td>\n",
       "      <td>10047</td>\n",
       "      <td>0</td>\n",
       "      <td>8457</td>\n",
       "      <td>10047</td>\n",
       "      <td>8457</td>\n",
       "      <td>8457</td>\n",
       "      <td>1590</td>\n",
       "    </tr>\n",
       "    <tr>\n",
       "      <th>Public Service Commissioner</th>\n",
       "      <td>28180</td>\n",
       "      <td>28180</td>\n",
       "      <td>28180</td>\n",
       "      <td>28180</td>\n",
       "      <td>28180</td>\n",
       "      <td>28180</td>\n",
       "      <td>28180</td>\n",
       "      <td>28180</td>\n",
       "      <td>28180</td>\n",
       "      <td>0</td>\n",
       "    </tr>\n",
       "    <tr>\n",
       "      <th>State House</th>\n",
       "      <td>9086</td>\n",
       "      <td>9086</td>\n",
       "      <td>9111</td>\n",
       "      <td>9111</td>\n",
       "      <td>9111</td>\n",
       "      <td>9086</td>\n",
       "      <td>9111</td>\n",
       "      <td>9086</td>\n",
       "      <td>9086</td>\n",
       "      <td>25</td>\n",
       "    </tr>\n",
       "    <tr>\n",
       "      <th>State Senate</th>\n",
       "      <td>8634</td>\n",
       "      <td>8634</td>\n",
       "      <td>8634</td>\n",
       "      <td>8634</td>\n",
       "      <td>8634</td>\n",
       "      <td>8634</td>\n",
       "      <td>8634</td>\n",
       "      <td>8634</td>\n",
       "      <td>8634</td>\n",
       "      <td>0</td>\n",
       "    </tr>\n",
       "    <tr>\n",
       "      <th>Superior Court Judge</th>\n",
       "      <td>18064</td>\n",
       "      <td>18064</td>\n",
       "      <td>18064</td>\n",
       "      <td>18064</td>\n",
       "      <td>18064</td>\n",
       "      <td>18064</td>\n",
       "      <td>18064</td>\n",
       "      <td>18064</td>\n",
       "      <td>18064</td>\n",
       "      <td>0</td>\n",
       "    </tr>\n",
       "    <tr>\n",
       "      <th>Supreme Court Justice</th>\n",
       "      <td>16536</td>\n",
       "      <td>16536</td>\n",
       "      <td>16536</td>\n",
       "      <td>16536</td>\n",
       "      <td>16536</td>\n",
       "      <td>16536</td>\n",
       "      <td>16536</td>\n",
       "      <td>16536</td>\n",
       "      <td>16536</td>\n",
       "      <td>0</td>\n",
       "    </tr>\n",
       "    <tr>\n",
       "      <th>U.S. House</th>\n",
       "      <td>15592</td>\n",
       "      <td>15592</td>\n",
       "      <td>15592</td>\n",
       "      <td>15592</td>\n",
       "      <td>15592</td>\n",
       "      <td>15592</td>\n",
       "      <td>15592</td>\n",
       "      <td>15592</td>\n",
       "      <td>15592</td>\n",
       "      <td>0</td>\n",
       "    </tr>\n",
       "  </tbody>\n",
       "</table>\n",
       "</div>"
      ],
      "text/plain": [
       "                             absentee_by_mail_votes  advanced_votes  \\\n",
       "office                                                                \n",
       "Appeals Court Judge                           27560           27560   \n",
       "District Attorney                              6570            6570   \n",
       "President                                      8457            8457   \n",
       "Public Service Commissioner                   28180           28180   \n",
       "State House                                    9086            9086   \n",
       "State Senate                                   8634            8634   \n",
       "Superior Court Judge                          18064           18064   \n",
       "Supreme Court Justice                         16536           16536   \n",
       "U.S. House                                    15592           15592   \n",
       "\n",
       "                             candidate  county  district  election_day_votes  \\\n",
       "office                                                                         \n",
       "Appeals Court Judge              27560   27560     27560               27560   \n",
       "District Attorney                 6570    6570      6570                6570   \n",
       "President                        10047   10047         0                8457   \n",
       "Public Service Commissioner      28180   28180     28180               28180   \n",
       "State House                       9111    9111      9111                9086   \n",
       "State Senate                      8634    8634      8634                8634   \n",
       "Superior Court Judge             18064   18064     18064               18064   \n",
       "Supreme Court Justice            16536   16536     16536               16536   \n",
       "U.S. House                       15592   15592     15592               15592   \n",
       "\n",
       "                             party  precinct  provisional_votes  votes  \n",
       "office                                                                  \n",
       "Appeals Court Judge          27560     27560              27560      0  \n",
       "District Attorney             6570      6570               6570      0  \n",
       "President                    10047      8457               8457   1590  \n",
       "Public Service Commissioner  28180     28180              28180      0  \n",
       "State House                   9111      9086               9086     25  \n",
       "State Senate                  8634      8634               8634      0  \n",
       "Superior Court Judge         18064     18064              18064      0  \n",
       "Supreme Court Justice        16536     16536              16536      0  \n",
       "U.S. House                   15592     15592              15592      0  "
      ]
     },
     "execution_count": 6,
     "metadata": {},
     "output_type": "execute_result"
    }
   ],
   "source": [
    "df.groupby('office').count()"
   ]
  },
  {
   "cell_type": "code",
   "execution_count": 7,
   "metadata": {},
   "outputs": [
    {
     "data": {
      "text/html": [
       "<div>\n",
       "<style scoped>\n",
       "    .dataframe tbody tr th:only-of-type {\n",
       "        vertical-align: middle;\n",
       "    }\n",
       "\n",
       "    .dataframe tbody tr th {\n",
       "        vertical-align: top;\n",
       "    }\n",
       "\n",
       "    .dataframe thead th {\n",
       "        text-align: right;\n",
       "    }\n",
       "</style>\n",
       "<table border=\"1\" class=\"dataframe\">\n",
       "  <thead>\n",
       "    <tr style=\"text-align: right;\">\n",
       "      <th></th>\n",
       "      <th>absentee_by_mail_votes</th>\n",
       "      <th>advanced_votes</th>\n",
       "      <th>candidate</th>\n",
       "      <th>county</th>\n",
       "      <th>district</th>\n",
       "      <th>election_day_votes</th>\n",
       "      <th>office</th>\n",
       "      <th>precinct</th>\n",
       "      <th>provisional_votes</th>\n",
       "      <th>votes</th>\n",
       "    </tr>\n",
       "    <tr>\n",
       "      <th>party</th>\n",
       "      <th></th>\n",
       "      <th></th>\n",
       "      <th></th>\n",
       "      <th></th>\n",
       "      <th></th>\n",
       "      <th></th>\n",
       "      <th></th>\n",
       "      <th></th>\n",
       "      <th></th>\n",
       "      <th></th>\n",
       "    </tr>\n",
       "  </thead>\n",
       "  <tbody>\n",
       "    <tr>\n",
       "      <th>Democrat</th>\n",
       "      <td>24079</td>\n",
       "      <td>24079</td>\n",
       "      <td>24247</td>\n",
       "      <td>24247</td>\n",
       "      <td>21269</td>\n",
       "      <td>24079</td>\n",
       "      <td>24247</td>\n",
       "      <td>24079</td>\n",
       "      <td>24079</td>\n",
       "      <td>168</td>\n",
       "    </tr>\n",
       "    <tr>\n",
       "      <th>Independent</th>\n",
       "      <td>161</td>\n",
       "      <td>161</td>\n",
       "      <td>161</td>\n",
       "      <td>161</td>\n",
       "      <td>161</td>\n",
       "      <td>161</td>\n",
       "      <td>161</td>\n",
       "      <td>161</td>\n",
       "      <td>161</td>\n",
       "      <td>0</td>\n",
       "    </tr>\n",
       "    <tr>\n",
       "      <th>Libertarian</th>\n",
       "      <td>8457</td>\n",
       "      <td>8457</td>\n",
       "      <td>8457</td>\n",
       "      <td>8457</td>\n",
       "      <td>5638</td>\n",
       "      <td>8457</td>\n",
       "      <td>8457</td>\n",
       "      <td>8457</td>\n",
       "      <td>8457</td>\n",
       "      <td>0</td>\n",
       "    </tr>\n",
       "    <tr>\n",
       "      <th>Nonpartisan</th>\n",
       "      <td>62160</td>\n",
       "      <td>62160</td>\n",
       "      <td>62160</td>\n",
       "      <td>62160</td>\n",
       "      <td>62160</td>\n",
       "      <td>62160</td>\n",
       "      <td>62160</td>\n",
       "      <td>62160</td>\n",
       "      <td>62160</td>\n",
       "      <td>0</td>\n",
       "    </tr>\n",
       "    <tr>\n",
       "      <th>Republican</th>\n",
       "      <td>43822</td>\n",
       "      <td>43822</td>\n",
       "      <td>45267</td>\n",
       "      <td>45267</td>\n",
       "      <td>41017</td>\n",
       "      <td>43822</td>\n",
       "      <td>45267</td>\n",
       "      <td>43822</td>\n",
       "      <td>43822</td>\n",
       "      <td>1445</td>\n",
       "    </tr>\n",
       "    <tr>\n",
       "      <th>Unknown</th>\n",
       "      <td>0</td>\n",
       "      <td>0</td>\n",
       "      <td>2</td>\n",
       "      <td>2</td>\n",
       "      <td>2</td>\n",
       "      <td>0</td>\n",
       "      <td>2</td>\n",
       "      <td>0</td>\n",
       "      <td>0</td>\n",
       "      <td>2</td>\n",
       "    </tr>\n",
       "  </tbody>\n",
       "</table>\n",
       "</div>"
      ],
      "text/plain": [
       "             absentee_by_mail_votes  advanced_votes  candidate  county  \\\n",
       "party                                                                    \n",
       "Democrat                      24079           24079      24247   24247   \n",
       "Independent                     161             161        161     161   \n",
       "Libertarian                    8457            8457       8457    8457   \n",
       "Nonpartisan                   62160           62160      62160   62160   \n",
       "Republican                    43822           43822      45267   45267   \n",
       "Unknown                           0               0          2       2   \n",
       "\n",
       "             district  election_day_votes  office  precinct  \\\n",
       "party                                                         \n",
       "Democrat        21269               24079   24247     24079   \n",
       "Independent       161                 161     161       161   \n",
       "Libertarian      5638                8457    8457      8457   \n",
       "Nonpartisan     62160               62160   62160     62160   \n",
       "Republican      41017               43822   45267     43822   \n",
       "Unknown             2                   0       2         0   \n",
       "\n",
       "             provisional_votes  votes  \n",
       "party                                  \n",
       "Democrat                 24079    168  \n",
       "Independent                161      0  \n",
       "Libertarian               8457      0  \n",
       "Nonpartisan              62160      0  \n",
       "Republican               43822   1445  \n",
       "Unknown                      0      2  "
      ]
     },
     "execution_count": 7,
     "metadata": {},
     "output_type": "execute_result"
    }
   ],
   "source": [
    "df.groupby('party').count()"
   ]
  },
  {
   "cell_type": "code",
   "execution_count": null,
   "metadata": {},
   "outputs": [],
   "source": []
  },
  {
   "cell_type": "markdown",
   "metadata": {},
   "source": [
    "### Here we start to standardize things"
   ]
  },
  {
   "cell_type": "code",
   "execution_count": null,
   "metadata": {},
   "outputs": [],
   "source": [
    "ls 2006"
   ]
  },
  {
   "cell_type": "code",
   "execution_count": null,
   "metadata": {},
   "outputs": [],
   "source": [
    "file_name = '2006/20061107__ga__general.csv'"
   ]
  },
  {
   "cell_type": "code",
   "execution_count": null,
   "metadata": {},
   "outputs": [],
   "source": [
    "df = pd.read_csv(file_name)"
   ]
  },
  {
   "cell_type": "code",
   "execution_count": null,
   "metadata": {},
   "outputs": [],
   "source": [
    "df.groupby(['party']).count()"
   ]
  },
  {
   "cell_type": "code",
   "execution_count": null,
   "metadata": {},
   "outputs": [],
   "source": [
    "# Democrat\n",
    "# Republican\n",
    "# Libertarian\n",
    "# Independent\n",
    "# Nonpartisan\n",
    "# Green\n",
    "# Write-In\n",
    "# Unknown\n",
    "\n",
    "df.loc[df.party == 'Democratic', 'party'] = 'Democrat'\n",
    "df.loc[df.party == 'Non-Partisan', 'party'] = 'Nonpartisan'\n",
    "\n",
    "df.loc[df.party == 'Republian', 'party'] = 'Republican'\n",
    "\n",
    "\n",
    "df.loc[df.party == 'D', 'party'] = 'Democrat'\n",
    "df.loc[df.party == 'Lib', 'party'] = 'Libertarian'\n",
    "df.loc[df.party == 'R', 'party'] = 'Republican'"
   ]
  },
  {
   "cell_type": "code",
   "execution_count": null,
   "metadata": {},
   "outputs": [],
   "source": [
    "df.groupby(['office']).count()"
   ]
  },
  {
   "cell_type": "code",
   "execution_count": null,
   "metadata": {},
   "outputs": [],
   "source": [
    "df.loc[df.office == 'Agriculture Commissioner', 'office'] = 'Commissioner of Agriculture'"
   ]
  },
  {
   "cell_type": "code",
   "execution_count": null,
   "metadata": {},
   "outputs": [],
   "source": [
    "df.loc[df.office == 'Insurance Commissioner', 'office'] = 'Commissioner of Insurance'"
   ]
  },
  {
   "cell_type": "code",
   "execution_count": null,
   "metadata": {},
   "outputs": [],
   "source": [
    "df.loc[df.office == 'Public Service Commission', 'office'] = 'Public Service Commissioner'"
   ]
  },
  {
   "cell_type": "code",
   "execution_count": null,
   "metadata": {},
   "outputs": [],
   "source": [
    "df.loc[df.office == 'Commissioner Of Agriculture', 'office'] = 'Commissioner of Agriculture'\n",
    "df.loc[df.office == 'Commissioner Of Insurance', 'office'] = 'Commissioner of Insurance'\n",
    "df.loc[df.office == 'Commissioner Of Labor', 'office'] = 'Commissioner of Labor'"
   ]
  },
  {
   "cell_type": "code",
   "execution_count": null,
   "metadata": {},
   "outputs": [],
   "source": [
    "df.loc[df.office == 'Judge Of The Court Of Appeals', 'office'] = 'Judge of the Court of Appeals'\n",
    "df.loc[df.office == 'Justice Of The Supreme Court', 'office'] = 'Justice of the Supreme Court'"
   ]
  },
  {
   "cell_type": "code",
   "execution_count": null,
   "metadata": {},
   "outputs": [],
   "source": [
    "df.loc[df.office == 'Justice of the Supreme Court', 'office'] = 'Supreme Court Justice'"
   ]
  },
  {
   "cell_type": "code",
   "execution_count": null,
   "metadata": {},
   "outputs": [],
   "source": [
    "df.loc[df.office == 'Judge of the Court of Appeals', 'office'] = 'Appeals Court Judge'"
   ]
  },
  {
   "cell_type": "code",
   "execution_count": null,
   "metadata": {},
   "outputs": [],
   "source": [
    "df.loc[df.office == 'State Representative', 'office'] = 'State House'"
   ]
  },
  {
   "cell_type": "code",
   "execution_count": null,
   "metadata": {},
   "outputs": [],
   "source": [
    "df.loc[df.office == 'State Senator', 'office'] = 'State Senate'"
   ]
  },
  {
   "cell_type": "code",
   "execution_count": null,
   "metadata": {},
   "outputs": [],
   "source": [
    "df.loc[df.office == 'U.S. Representative', 'office'] = 'U.S. House'"
   ]
  },
  {
   "cell_type": "code",
   "execution_count": null,
   "metadata": {},
   "outputs": [],
   "source": [
    "df.loc[df.office == 'US Senate', 'office'] = 'U.S. Senate'"
   ]
  },
  {
   "cell_type": "code",
   "execution_count": null,
   "metadata": {},
   "outputs": [],
   "source": [
    "df.loc[df.office == 'Vice-President', 'office'] = 'Vice President'"
   ]
  },
  {
   "cell_type": "markdown",
   "metadata": {},
   "source": [
    "### Here we are checking data and writing back out to csv file"
   ]
  },
  {
   "cell_type": "code",
   "execution_count": null,
   "metadata": {},
   "outputs": [],
   "source": [
    "df.info()"
   ]
  },
  {
   "cell_type": "code",
   "execution_count": null,
   "metadata": {},
   "outputs": [],
   "source": [
    "df.district = df.district.astype(pd.Int64Dtype())"
   ]
  },
  {
   "cell_type": "code",
   "execution_count": null,
   "metadata": {},
   "outputs": [],
   "source": [
    "df.candidate = df.candidate.str.strip()"
   ]
  },
  {
   "cell_type": "code",
   "execution_count": null,
   "metadata": {},
   "outputs": [],
   "source": [
    "df.info()"
   ]
  },
  {
   "cell_type": "code",
   "execution_count": null,
   "metadata": {},
   "outputs": [],
   "source": [
    "df[['county', 'office', 'district', 'party', 'candidate', 'votes']].to_csv(file_name, index=False)"
   ]
  },
  {
   "cell_type": "code",
   "execution_count": null,
   "metadata": {},
   "outputs": [],
   "source": []
  }
 ],
 "metadata": {
  "kernelspec": {
   "display_name": "Python 3",
   "language": "python",
   "name": "python3"
  },
  "language_info": {
   "codemirror_mode": {
    "name": "ipython",
    "version": 3
   },
   "file_extension": ".py",
   "mimetype": "text/x-python",
   "name": "python",
   "nbconvert_exporter": "python",
   "pygments_lexer": "ipython3",
   "version": "3.7.4"
  }
 },
 "nbformat": 4,
 "nbformat_minor": 4
}
