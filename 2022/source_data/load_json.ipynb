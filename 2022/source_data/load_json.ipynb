{
 "cells": [
  {
   "cell_type": "code",
   "execution_count": 1,
   "id": "914091e5-7226-4673-9b62-816b2909f333",
   "metadata": {},
   "outputs": [],
   "source": [
    "import json"
   ]
  },
  {
   "cell_type": "code",
   "execution_count": 4,
   "id": "cbf383cb-3ad6-4680-af56-af3f590554ac",
   "metadata": {},
   "outputs": [],
   "source": [
    "with open('./source_data/20221220__ga__special__state__house__129.json', 'r') as f:\n",
    "    # Load the JSON data into a Python dictionary\n",
    "    data = json.load(f)"
   ]
  },
  {
   "cell_type": "code",
   "execution_count": 8,
   "id": "cba1fe99-23b0-4317-89d2-79e3f4dc61aa",
   "metadata": {},
   "outputs": [
    {
     "data": {
      "text/plain": [
       "{'id': '09378a07-e6cf-4f66-be7c-ca4aa534f99a',\n",
       " 'name': 'Georgia',\n",
       " 'ballotItems': [{'type': 'State',\n",
       "   'id': '62900',\n",
       "   'name': 'State House of Representatives - District 129 - Dem',\n",
       "   'voteFor': 1,\n",
       "   'ballotOrder': 1,\n",
       "   'precinctsParticipating': None,\n",
       "   'precinctsReporting': None,\n",
       "   'contestType': 'Candidate',\n",
       "   'ballotOptions': [{'id': '1',\n",
       "     'name': 'Scott Cambers',\n",
       "     'ballotOrder': 1,\n",
       "     'voteCount': 244,\n",
       "     'politicalParty': 'DEM',\n",
       "     'groupResults': [{'groupName': 'Election Day Votes',\n",
       "       'voteCount': 89,\n",
       "       'isFromVirtualPrecinct': False},\n",
       "      {'groupName': 'Absentee by Mail Votes',\n",
       "       'voteCount': 2,\n",
       "       'isFromVirtualPrecinct': False},\n",
       "      {'groupName': 'Advance Voting Votes',\n",
       "       'voteCount': 153,\n",
       "       'isFromVirtualPrecinct': False},\n",
       "      {'groupName': 'Provisional Votes',\n",
       "       'voteCount': 0,\n",
       "       'isFromVirtualPrecinct': False}],\n",
       "     'precinctResults': None},\n",
       "    {'id': '2',\n",
       "     'name': 'Davis Green',\n",
       "     'ballotOrder': 2,\n",
       "     'voteCount': 158,\n",
       "     'politicalParty': 'DEM',\n",
       "     'groupResults': [{'groupName': 'Election Day Votes',\n",
       "       'voteCount': 50,\n",
       "       'isFromVirtualPrecinct': False},\n",
       "      {'groupName': 'Absentee by Mail Votes',\n",
       "       'voteCount': 2,\n",
       "       'isFromVirtualPrecinct': False},\n",
       "      {'groupName': 'Advance Voting Votes',\n",
       "       'voteCount': 106,\n",
       "       'isFromVirtualPrecinct': False},\n",
       "      {'groupName': 'Provisional Votes',\n",
       "       'voteCount': 0,\n",
       "       'isFromVirtualPrecinct': False}],\n",
       "     'precinctResults': None},\n",
       "    {'id': '3',\n",
       "     'name': 'Karlton L. Howard',\n",
       "     'ballotOrder': 3,\n",
       "     'voteCount': 1810,\n",
       "     'politicalParty': 'DEM',\n",
       "     'groupResults': [{'groupName': 'Election Day Votes',\n",
       "       'voteCount': 709,\n",
       "       'isFromVirtualPrecinct': False},\n",
       "      {'groupName': 'Absentee by Mail Votes',\n",
       "       'voteCount': 31,\n",
       "       'isFromVirtualPrecinct': False},\n",
       "      {'groupName': 'Advance Voting Votes',\n",
       "       'voteCount': 1070,\n",
       "       'isFromVirtualPrecinct': False},\n",
       "      {'groupName': 'Provisional Votes',\n",
       "       'voteCount': 0,\n",
       "       'isFromVirtualPrecinct': False}],\n",
       "     'precinctResults': None},\n",
       "    {'id': '4',\n",
       "     'name': 'Brad Owens',\n",
       "     'ballotOrder': 4,\n",
       "     'voteCount': 435,\n",
       "     'politicalParty': 'DEM',\n",
       "     'groupResults': [{'groupName': 'Election Day Votes',\n",
       "       'voteCount': 227,\n",
       "       'isFromVirtualPrecinct': False},\n",
       "      {'groupName': 'Absentee by Mail Votes',\n",
       "       'voteCount': 1,\n",
       "       'isFromVirtualPrecinct': False},\n",
       "      {'groupName': 'Advance Voting Votes',\n",
       "       'voteCount': 207,\n",
       "       'isFromVirtualPrecinct': False},\n",
       "      {'groupName': 'Provisional Votes',\n",
       "       'voteCount': 0,\n",
       "       'isFromVirtualPrecinct': False}],\n",
       "     'precinctResults': None}],\n",
       "   'rankedChoiceResults': None}],\n",
       " 'reportingStatuses': None}"
      ]
     },
     "execution_count": 8,
     "metadata": {},
     "output_type": "execute_result"
    }
   ],
   "source": [
    "data.get('results')"
   ]
  },
  {
   "cell_type": "code",
   "execution_count": null,
   "id": "c89ae720-2dad-4117-b7f0-156b98033d52",
   "metadata": {},
   "outputs": [],
   "source": []
  }
 ],
 "metadata": {
  "kernelspec": {
   "display_name": "Python 3 (ipykernel)",
   "language": "python",
   "name": "python3"
  },
  "language_info": {
   "codemirror_mode": {
    "name": "ipython",
    "version": 3
   },
   "file_extension": ".py",
   "mimetype": "text/x-python",
   "name": "python",
   "nbconvert_exporter": "python",
   "pygments_lexer": "ipython3",
   "version": "3.11.11"
  }
 },
 "nbformat": 4,
 "nbformat_minor": 5
}
