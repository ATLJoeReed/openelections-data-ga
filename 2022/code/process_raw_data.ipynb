{
 "cells": [
  {
   "cell_type": "code",
   "execution_count": null,
   "id": "b1e517ac-5ec3-4526-aea0-aba247e590fc",
   "metadata": {},
   "outputs": [],
   "source": [
    "import sqlite3\n",
    "\n",
    "import duckdb\n",
    "import pandas as pd\n",
    "\n",
    "pd.set_option('display.max_colwidth', None)"
   ]
  },
  {
   "cell_type": "code",
   "execution_count": null,
   "id": "437e4b08",
   "metadata": {},
   "outputs": [],
   "source": [
    "conn = sqlite3.connect('2022_race_results.db')\n",
    "\n",
    "df = pd.read_sql('select * from ga_special_20220503', conn)\n",
    "\n",
    "conn.close()"
   ]
  },
  {
   "cell_type": "code",
   "execution_count": null,
   "id": "ec27a715-8c63-432f-8075-0a05d9523e66",
   "metadata": {},
   "outputs": [],
   "source": [
    "df.head()"
   ]
  },
  {
   "cell_type": "code",
   "execution_count": null,
   "id": "9b2bcb0d-7a8c-4068-ad21-819cc6f0b470",
   "metadata": {},
   "outputs": [],
   "source": [
    "df.info()"
   ]
  },
  {
   "cell_type": "code",
   "execution_count": null,
   "id": "e4b902f1-42d6-425f-9ea7-3fa68e95f003",
   "metadata": {},
   "outputs": [],
   "source": [
    "conn = duckdb.connect('race_results.db')\n",
    "conn.sql(\"\"\"\n",
    "create or replace table race_results \n",
    "as\n",
    "select \n",
    "    county,\n",
    "    precinct,\n",
    "    input_office,\n",
    "    office::varchar as office,\n",
    "    district::varchar as district,\n",
    "    input_candidate,\n",
    "    candidate::varchar as candidate,\n",
    "    party::varchar as party,\n",
    "    total_votes::int as total_votes,\n",
    "    vote_type,\n",
    "    votes::int as votes\n",
    "from df\n",
    "\"\"\")"
   ]
  },
  {
   "cell_type": "code",
   "execution_count": null,
   "id": "aa9289f8-69b9-44aa-85e4-c9373c66e3c8",
   "metadata": {},
   "outputs": [],
   "source": [
    "conn.sql(\"describe race_results;\").show()"
   ]
  },
  {
   "cell_type": "markdown",
   "id": "f4494e34-eddb-4a62-9b4a-dd52dc894afc",
   "metadata": {},
   "source": [
    "### Make sure data loaded correctly..."
   ]
  },
  {
   "cell_type": "code",
   "execution_count": null,
   "id": "2857cab3-1b7b-4d9a-931a-510d57c4a3eb",
   "metadata": {},
   "outputs": [],
   "source": [
    "conn.sql(\"\"\"\n",
    "select input_candidate, sum(votes) as votes\n",
    "from race_results\n",
    "group by input_candidate\n",
    "order by input_candidate;\n",
    "\"\"\").show()"
   ]
  },
  {
   "cell_type": "markdown",
   "id": "7aafbd77-568e-4c91-8486-ab3f9f4ad347",
   "metadata": {},
   "source": [
    "### Fix parties..."
   ]
  },
  {
   "cell_type": "code",
   "execution_count": null,
   "id": "ae6b4a7e-8856-4f37-9513-9cc842e8d224",
   "metadata": {},
   "outputs": [],
   "source": [
    "conn.sql(\"\"\"\n",
    "update race_results\n",
    "    set party = 'Republican'\n",
    "where input_candidate ilike '% (Rep)';\n",
    "\"\"\")"
   ]
  },
  {
   "cell_type": "code",
   "execution_count": null,
   "id": "e1165dee-389d-4d2b-9c93-0ef32add74eb",
   "metadata": {},
   "outputs": [],
   "source": [
    "conn.sql(\"\"\"\n",
    "update race_results\n",
    "    set party = 'Democrat'\n",
    "where input_candidate ilike '% (Dem)';\n",
    "\"\"\")"
   ]
  },
  {
   "cell_type": "code",
   "execution_count": null,
   "id": "55d240b2-ae0c-4f24-97ca-d617f88ce061",
   "metadata": {},
   "outputs": [],
   "source": [
    "conn.sql(\"\"\"\n",
    "select party, count(*) as cnt\n",
    "from race_results\n",
    "group by party\n",
    "order by party;\n",
    "\"\"\").show()"
   ]
  },
  {
   "cell_type": "markdown",
   "id": "0072856c-6631-4af6-bed0-339972c060a3",
   "metadata": {},
   "source": [
    "### Fix office names..."
   ]
  },
  {
   "cell_type": "code",
   "execution_count": null,
   "id": "1b3542a6-52be-4f8d-b40e-5bb77b52d718",
   "metadata": {},
   "outputs": [],
   "source": [
    "conn.sql(\"\"\"\n",
    "select input_office, office, district, count(*) as cnt\n",
    "from race_results\n",
    "group by input_office, office, district\n",
    "order by input_office;\n",
    "\"\"\").show()"
   ]
  },
  {
   "cell_type": "code",
   "execution_count": null,
   "id": "b2797da5-ee15-40bb-9584-88a5a7a7f0fe",
   "metadata": {},
   "outputs": [],
   "source": [
    "conn.sql(\"\"\"\n",
    "update race_results\n",
    "    set office = 'State House',\n",
    "        district = '45'\n",
    "where input_office = 'Special State House of Representatives - District 45'\n",
    "    and office is null;\n",
    "\"\"\")"
   ]
  },
  {
   "cell_type": "code",
   "execution_count": null,
   "id": "bbaa85a7-23f9-449a-b695-ac531dd83586",
   "metadata": {},
   "outputs": [],
   "source": [
    "conn.sql(\"\"\"\n",
    "select input_office, office, district, count(*) as cnt\n",
    "from race_results\n",
    "group by input_office, office, district\n",
    "order by input_office;\n",
    "\"\"\").show()"
   ]
  },
  {
   "cell_type": "markdown",
   "id": "619004f4-ddf2-4172-a4e1-a5a239fe47bd",
   "metadata": {},
   "source": [
    "### Fix candidate names..."
   ]
  },
  {
   "cell_type": "code",
   "execution_count": null,
   "id": "3b933bfe-08b7-43af-b734-1b057c818fa6",
   "metadata": {},
   "outputs": [],
   "source": [
    "conn.sql(\"\"\"\n",
    "update race_results\n",
    "    set candidate = trim(regexp_replace(input_candidate, '\\s+', ' ', 'g'));\n",
    "\"\"\")"
   ]
  },
  {
   "cell_type": "code",
   "execution_count": null,
   "id": "033ad9ed-9d3c-4e6b-9669-d429fd49fccb",
   "metadata": {},
   "outputs": [],
   "source": [
    "conn.sql(\"\"\"\n",
    "select input_candidate, candidate, count(*) as cnt\n",
    "from race_results\n",
    "group by input_candidate, candidate\n",
    "order by input_candidate;\n",
    "\"\"\").show()"
   ]
  },
  {
   "cell_type": "code",
   "execution_count": null,
   "id": "de91bf52-0efe-439c-ab6c-754bcd3182b0",
   "metadata": {},
   "outputs": [],
   "source": [
    "conn.sql(\"\"\"\n",
    "update race_results\n",
    "    set candidate = replace(candidate, ' (Dem)', '')\n",
    "where office is not null\n",
    "    and candidate like '% (Dem)';\n",
    "\"\"\")"
   ]
  },
  {
   "cell_type": "code",
   "execution_count": null,
   "id": "0fa4b051-c24c-4ee2-99e0-a04bb4877268",
   "metadata": {},
   "outputs": [],
   "source": [
    "conn.sql(\"\"\"\n",
    "update race_results\n",
    "    set candidate = replace(candidate, ' (Rep)', '')\n",
    "where office is not null\n",
    "    and candidate like '% (Rep)';\n",
    "\"\"\")"
   ]
  },
  {
   "cell_type": "code",
   "execution_count": null,
   "id": "fb583e9c-4d26-4ea2-b181-da9c2a559e10",
   "metadata": {},
   "outputs": [],
   "source": [
    "conn.sql(\"\"\"\n",
    "select input_candidate, candidate, count(*) as cnt\n",
    "from race_results\n",
    "group by input_candidate, candidate\n",
    "order by input_candidate;\n",
    "\"\"\").show()"
   ]
  },
  {
   "cell_type": "code",
   "execution_count": null,
   "id": "393220ba-74d5-46e8-9e73-67fe73fd1552",
   "metadata": {},
   "outputs": [],
   "source": [
    "conn.sql(\"\"\"\n",
    "update race_results\n",
    "    set candidate = replace(candidate, ',', '')\n",
    "where office is not null\n",
    "    and candidate like '%,%';\n",
    "\"\"\")"
   ]
  },
  {
   "cell_type": "markdown",
   "id": "232e0d97-13fa-43d4-a2a9-f3127cb96dc9",
   "metadata": {},
   "source": [
    "### Run some QC queries..."
   ]
  },
  {
   "cell_type": "code",
   "execution_count": null,
   "id": "f8d27c30-6b81-4a5d-8430-7b5ff417b987",
   "metadata": {},
   "outputs": [],
   "source": [
    "conn.sql(\"\"\"\n",
    "select county, candidate, party, min(total_votes::int) as total_votes, sum(votes::int) as votes\n",
    "from race_results\n",
    "where office is not null\n",
    "group by county, candidate, party\n",
    "order by county, candidate;\n",
    "\"\"\").show()"
   ]
  },
  {
   "cell_type": "code",
   "execution_count": null,
   "id": "6f227494-631b-47fa-a8c0-e9049be6b45a",
   "metadata": {},
   "outputs": [],
   "source": [
    "conn.sql(\"\"\"\n",
    "select office, district, candidate, party, sum(votes::int) as votes\n",
    "from race_results\n",
    "where office is not null\n",
    "group by office, district, candidate, party\n",
    "order by office, district, candidate;\n",
    "\"\"\").show()"
   ]
  },
  {
   "cell_type": "code",
   "execution_count": null,
   "id": "d37d2332-8c44-4994-b561-601c48ec3ae1",
   "metadata": {},
   "outputs": [],
   "source": [
    "conn.sql(\"\"\"\n",
    "create table final_race_results\n",
    "as\n",
    "with election_day_votes as\n",
    "(\n",
    "    select county, precinct, office, district, party, candidate, votes as election_day_votes\n",
    "    from race_results\n",
    "    where office is not null\n",
    "        and vote_type = 'Election Day Votes'\n",
    "),\n",
    "advanced_votes as\n",
    "(\n",
    "    select county, precinct, office, district, party, candidate, votes as advanced_votes\n",
    "    from race_results\n",
    "    where office is not null\n",
    "        and vote_type = 'Advanced Voting Votes'\n",
    "),\n",
    "absentee_by_mail_votes as\n",
    "(\n",
    "    select county, precinct, office, district, party, candidate, votes as absentee_by_mail_votes\n",
    "    from race_results\n",
    "    where office is not null\n",
    "        and vote_type = 'Absentee by Mail Votes'\n",
    "),\n",
    "provisional_votes as\n",
    "(\n",
    "    select county, precinct, office, district, party, candidate, votes as provisional_votes\n",
    "    from race_results\n",
    "    where office is not null\n",
    "        and vote_type = 'Provisional Votes'\n",
    ")\n",
    "select a.*, b.advanced_votes, c.absentee_by_mail_votes, d.provisional_votes\n",
    "from election_day_votes as a\n",
    "    inner join advanced_votes as b\n",
    "        on a.county = b.county\n",
    "            and a.precinct = b.precinct\n",
    "            and a.office = b.office\n",
    "            and coalesce(a.district, '') = coalesce(b.district, '')\n",
    "            and coalesce(a.party, '') = coalesce(b.party, '')\n",
    "            and a.candidate = b.candidate\n",
    "    inner join absentee_by_mail_votes as c\n",
    "        on a.county = c.county\n",
    "            and a.precinct = c.precinct\n",
    "            and a.office = c.office\n",
    "            and coalesce(a.district, '') = coalesce(c.district, '')\n",
    "            and coalesce(a.party, '') = coalesce(c.party, '')\n",
    "            and a.candidate = c.candidate\n",
    "    inner join provisional_votes as d\n",
    "        on a.county = d.county\n",
    "            and a.precinct = d.precinct\n",
    "            and a.office = d.office\n",
    "            and coalesce(a.district, '') = coalesce(d.district, '')\n",
    "            and coalesce(a.party, '') = coalesce(d.party, '')\n",
    "            and a.candidate = d.candidate\n",
    "where a.office is not null\n",
    "order by a.candidate, a.county, a.precinct;\n",
    "\"\"\")"
   ]
  },
  {
   "cell_type": "code",
   "execution_count": null,
   "id": "d6a0ac37-5295-4648-8f4e-b73c36f2c114",
   "metadata": {},
   "outputs": [],
   "source": [
    "conn.sql(\"describe final_race_results;\").show()"
   ]
  },
  {
   "cell_type": "code",
   "execution_count": null,
   "id": "451547f1-4051-4821-bd05-f4dd537bc2c9",
   "metadata": {},
   "outputs": [],
   "source": [
    "conn.sql(\"\"\"\n",
    "select *\n",
    "from final_race_results\n",
    "limit 10;\n",
    "\"\"\").show()"
   ]
  },
  {
   "cell_type": "code",
   "execution_count": null,
   "id": "59d62873-f135-4a49-955b-085f577e6625",
   "metadata": {},
   "outputs": [],
   "source": [
    "conn.sql(\"\"\"\n",
    "select \n",
    "    candidate, \n",
    "    sum(election_day_votes) as election_day_votes,\n",
    "    sum(advanced_votes) as advanced_votes,\n",
    "    sum(absentee_by_mail_votes) as absentee_by_mail_votes,\n",
    "    sum(provisional_votes) as provisional_votes\n",
    "from final_race_results\n",
    "group by candidate\n",
    "order by candidate;\n",
    "\"\"\").show()"
   ]
  },
  {
   "cell_type": "code",
   "execution_count": null,
   "id": "fb665d38-a427-4adb-830b-c2eb8ed41032",
   "metadata": {},
   "outputs": [],
   "source": [
    "df_final_results = conn.sql(\"select * from final_race_results;\").df()"
   ]
  },
  {
   "cell_type": "code",
   "execution_count": null,
   "id": "9a8d3416-7620-4574-a204-6a068c7f6bbd",
   "metadata": {},
   "outputs": [],
   "source": [
    "df_final_results.head(5).T"
   ]
  },
  {
   "cell_type": "code",
   "execution_count": null,
   "id": "dec63779-6068-4368-b1c2-a52e8bd5a569",
   "metadata": {},
   "outputs": [],
   "source": [
    "df_final_results.to_csv('../20220503__ga__special__runoff.csv', index=False)"
   ]
  },
  {
   "cell_type": "code",
   "execution_count": null,
   "id": "c6c965f3-0350-42fc-a45f-0650c138080a",
   "metadata": {},
   "outputs": [],
   "source": []
  }
 ],
 "metadata": {
  "kernelspec": {
   "display_name": "Python 3 (ipykernel)",
   "language": "python",
   "name": "python3"
  },
  "language_info": {
   "codemirror_mode": {
    "name": "ipython",
    "version": 3
   },
   "file_extension": ".py",
   "mimetype": "text/x-python",
   "name": "python",
   "nbconvert_exporter": "python",
   "pygments_lexer": "ipython3",
   "version": "3.9.2"
  }
 },
 "nbformat": 4,
 "nbformat_minor": 5
}
