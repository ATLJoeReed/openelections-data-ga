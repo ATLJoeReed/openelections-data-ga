{
 "cells": [
  {
   "cell_type": "code",
   "execution_count": 1,
   "metadata": {},
   "outputs": [],
   "source": [
    "import glob\n",
    "import os\n",
    "\n",
    "import pandas as pd"
   ]
  },
  {
   "cell_type": "code",
   "execution_count": 2,
   "metadata": {},
   "outputs": [],
   "source": [
    "df = pd.concat(map(pd.read_csv, glob.glob(os.path.join('.', \"20121106_*_precinct.csv\"))), sort=True)"
   ]
  },
  {
   "cell_type": "code",
   "execution_count": 3,
   "metadata": {},
   "outputs": [
    {
     "output_type": "stream",
     "name": "stdout",
     "text": [
      "<class 'pandas.core.frame.DataFrame'>\nInt64Index: 84511 entries, 0 to 355\nData columns (total 15 columns):\n #   Column               Non-Null Count  Dtype  \n---  ------               --------------  -----  \n 0   absentee_by_mail     84511 non-null  int64  \n 1   advance_in_person    75812 non-null  float64\n 2   advance_in_person_1  8699 non-null   float64\n 3   advance_in_person_2  18759 non-null  float64\n 4   advance_in_person_3  5369 non-null   float64\n 5   candidate            84511 non-null  object \n 6   county               84511 non-null  object \n 7   district             34552 non-null  object \n 8   election_day         84511 non-null  int64  \n 9   office               84511 non-null  object \n 10  party                64747 non-null  object \n 11  precinct             79176 non-null  object \n 12  provisional          79142 non-null  float64\n 13  provisional_         5369 non-null   float64\n 14  votes                84511 non-null  int64  \ndtypes: float64(6), int64(3), object(6)\nmemory usage: 10.3+ MB\n"
     ]
    }
   ],
   "source": [
    "df.info()"
   ]
  },
  {
   "cell_type": "code",
   "execution_count": 4,
   "metadata": {},
   "outputs": [
    {
     "output_type": "execute_result",
     "data": {
      "text/plain": [
       "   absentee_by_mail  advance_in_person  advance_in_person_1  \\\n",
       "0               330             1546.0                  NaN   \n",
       "1                 2               38.0                  NaN   \n",
       "2                36              199.0                  NaN   \n",
       "3                11               24.0                  NaN   \n",
       "4                 2               20.0                  NaN   \n",
       "\n",
       "   advance_in_person_2  advance_in_person_3    candidate county district  \\\n",
       "0                  NaN                  NaN  MITT ROMNEY  Burke      NaN   \n",
       "1                  NaN                  NaN  MITT ROMNEY  Burke      NaN   \n",
       "2                  NaN                  NaN  MITT ROMNEY  Burke      NaN   \n",
       "3                  NaN                  NaN  MITT ROMNEY  Burke      NaN   \n",
       "4                  NaN                  NaN  MITT ROMNEY  Burke      NaN   \n",
       "\n",
       "   election_day                          office party     precinct  \\\n",
       "0          2425  President of the United States     R          NaN   \n",
       "1            82  President of the United States     R    Alexander   \n",
       "2           501  President of the United States     R  Four Points   \n",
       "3           138  President of the United States     R       Girard   \n",
       "4            61  President of the United States     R        Gough   \n",
       "\n",
       "   provisional  provisional_  votes  \n",
       "0          0.0           NaN   4301  \n",
       "1          0.0           NaN    122  \n",
       "2          0.0           NaN    736  \n",
       "3          0.0           NaN    173  \n",
       "4          0.0           NaN     83  "
      ],
      "text/html": "<div>\n<style scoped>\n    .dataframe tbody tr th:only-of-type {\n        vertical-align: middle;\n    }\n\n    .dataframe tbody tr th {\n        vertical-align: top;\n    }\n\n    .dataframe thead th {\n        text-align: right;\n    }\n</style>\n<table border=\"1\" class=\"dataframe\">\n  <thead>\n    <tr style=\"text-align: right;\">\n      <th></th>\n      <th>absentee_by_mail</th>\n      <th>advance_in_person</th>\n      <th>advance_in_person_1</th>\n      <th>advance_in_person_2</th>\n      <th>advance_in_person_3</th>\n      <th>candidate</th>\n      <th>county</th>\n      <th>district</th>\n      <th>election_day</th>\n      <th>office</th>\n      <th>party</th>\n      <th>precinct</th>\n      <th>provisional</th>\n      <th>provisional_</th>\n      <th>votes</th>\n    </tr>\n  </thead>\n  <tbody>\n    <tr>\n      <th>0</th>\n      <td>330</td>\n      <td>1546.0</td>\n      <td>NaN</td>\n      <td>NaN</td>\n      <td>NaN</td>\n      <td>MITT ROMNEY</td>\n      <td>Burke</td>\n      <td>NaN</td>\n      <td>2425</td>\n      <td>President of the United States</td>\n      <td>R</td>\n      <td>NaN</td>\n      <td>0.0</td>\n      <td>NaN</td>\n      <td>4301</td>\n    </tr>\n    <tr>\n      <th>1</th>\n      <td>2</td>\n      <td>38.0</td>\n      <td>NaN</td>\n      <td>NaN</td>\n      <td>NaN</td>\n      <td>MITT ROMNEY</td>\n      <td>Burke</td>\n      <td>NaN</td>\n      <td>82</td>\n      <td>President of the United States</td>\n      <td>R</td>\n      <td>Alexander</td>\n      <td>0.0</td>\n      <td>NaN</td>\n      <td>122</td>\n    </tr>\n    <tr>\n      <th>2</th>\n      <td>36</td>\n      <td>199.0</td>\n      <td>NaN</td>\n      <td>NaN</td>\n      <td>NaN</td>\n      <td>MITT ROMNEY</td>\n      <td>Burke</td>\n      <td>NaN</td>\n      <td>501</td>\n      <td>President of the United States</td>\n      <td>R</td>\n      <td>Four Points</td>\n      <td>0.0</td>\n      <td>NaN</td>\n      <td>736</td>\n    </tr>\n    <tr>\n      <th>3</th>\n      <td>11</td>\n      <td>24.0</td>\n      <td>NaN</td>\n      <td>NaN</td>\n      <td>NaN</td>\n      <td>MITT ROMNEY</td>\n      <td>Burke</td>\n      <td>NaN</td>\n      <td>138</td>\n      <td>President of the United States</td>\n      <td>R</td>\n      <td>Girard</td>\n      <td>0.0</td>\n      <td>NaN</td>\n      <td>173</td>\n    </tr>\n    <tr>\n      <th>4</th>\n      <td>2</td>\n      <td>20.0</td>\n      <td>NaN</td>\n      <td>NaN</td>\n      <td>NaN</td>\n      <td>MITT ROMNEY</td>\n      <td>Burke</td>\n      <td>NaN</td>\n      <td>61</td>\n      <td>President of the United States</td>\n      <td>R</td>\n      <td>Gough</td>\n      <td>0.0</td>\n      <td>NaN</td>\n      <td>83</td>\n    </tr>\n  </tbody>\n</table>\n</div>"
     },
     "metadata": {},
     "execution_count": 4
    }
   ],
   "source": [
    "df.head()"
   ]
  },
  {
   "cell_type": "code",
   "execution_count": 5,
   "metadata": {},
   "outputs": [],
   "source": [
    "df.to_csv('ga_genearal_20121106.csv', index=False)"
   ]
  },
  {
   "cell_type": "code",
   "execution_count": null,
   "metadata": {},
   "outputs": [],
   "source": []
  }
 ],
 "metadata": {
  "kernelspec": {
   "display_name": "Python 3",
   "language": "python",
   "name": "python3"
  },
  "language_info": {
   "codemirror_mode": {
    "name": "ipython",
    "version": 3
   },
   "file_extension": ".py",
   "mimetype": "text/x-python",
   "name": "python",
   "nbconvert_exporter": "python",
   "pygments_lexer": "ipython3",
   "version": "3.7.4-final"
  }
 },
 "nbformat": 4,
 "nbformat_minor": 4
}