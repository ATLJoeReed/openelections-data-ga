{
 "cells": [
  {
   "cell_type": "code",
   "execution_count": 1,
   "metadata": {},
   "outputs": [],
   "source": [
    "import xml.etree.ElementTree as ET\n",
    "import pandas as pd"
   ]
  },
  {
   "cell_type": "code",
   "execution_count": 2,
   "metadata": {},
   "outputs": [],
   "source": [
    "def attrib_extractor(xml, attrib):\n",
    "    return xml.attrib.get(attrib, None)"
   ]
  },
  {
   "cell_type": "code",
   "execution_count": 3,
   "metadata": {},
   "outputs": [],
   "source": [
    "tree = ET.parse('raw_xml/20180724__ga__primary__runoff.xml')\n",
    "root = tree.getroot()"
   ]
  },
  {
   "cell_type": "code",
   "execution_count": 4,
   "metadata": {},
   "outputs": [],
   "source": [
    "results = []\n",
    "contests = root.findall('Contest')\n",
    "for contest in contests:\n",
    "    race = attrib_extractor(contest, 'text')\n",
    "    choices = contest.findall('Choice')\n",
    "    for choice in choices:\n",
    "        candidate_party = attrib_extractor(choice, 'text')\n",
    "        vote_types = choice.findall('VoteType')\n",
    "        for v in vote_types:\n",
    "            vote_type = attrib_extractor(v, 'name')        \n",
    "            for child in v:\n",
    "                line = {}    \n",
    "                line['race'] = race\n",
    "                line['candidate_party'] = candidate_party\n",
    "                line['vote_type'] = vote_type\n",
    "                line['county'] = attrib_extractor(child, 'name')\n",
    "                line['votes'] = attrib_extractor(child, 'votes')\n",
    "                results.append(line)"
   ]
  },
  {
   "cell_type": "code",
   "execution_count": 5,
   "metadata": {},
   "outputs": [],
   "source": [
    "df = pd.DataFrame(results)"
   ]
  },
  {
   "cell_type": "code",
   "execution_count": 6,
   "metadata": {},
   "outputs": [
    {
     "data": {
      "text/html": [
       "<div>\n",
       "<style scoped>\n",
       "    .dataframe tbody tr th:only-of-type {\n",
       "        vertical-align: middle;\n",
       "    }\n",
       "\n",
       "    .dataframe tbody tr th {\n",
       "        vertical-align: top;\n",
       "    }\n",
       "\n",
       "    .dataframe thead th {\n",
       "        text-align: right;\n",
       "    }\n",
       "</style>\n",
       "<table border=\"1\" class=\"dataframe\">\n",
       "  <thead>\n",
       "    <tr style=\"text-align: right;\">\n",
       "      <th></th>\n",
       "      <th>candidate_party</th>\n",
       "      <th>county</th>\n",
       "      <th>race</th>\n",
       "      <th>vote_type</th>\n",
       "      <th>votes</th>\n",
       "    </tr>\n",
       "  </thead>\n",
       "  <tbody>\n",
       "    <tr>\n",
       "      <th>0</th>\n",
       "      <td>L.S. \"CASEY\" CAGLE  (REP)</td>\n",
       "      <td>Appling</td>\n",
       "      <td>Governor - REP</td>\n",
       "      <td>Election Day</td>\n",
       "      <td>152</td>\n",
       "    </tr>\n",
       "    <tr>\n",
       "      <th>1</th>\n",
       "      <td>L.S. \"CASEY\" CAGLE  (REP)</td>\n",
       "      <td>Atkinson</td>\n",
       "      <td>Governor - REP</td>\n",
       "      <td>Election Day</td>\n",
       "      <td>76</td>\n",
       "    </tr>\n",
       "    <tr>\n",
       "      <th>2</th>\n",
       "      <td>L.S. \"CASEY\" CAGLE  (REP)</td>\n",
       "      <td>Bacon</td>\n",
       "      <td>Governor - REP</td>\n",
       "      <td>Election Day</td>\n",
       "      <td>58</td>\n",
       "    </tr>\n",
       "    <tr>\n",
       "      <th>3</th>\n",
       "      <td>L.S. \"CASEY\" CAGLE  (REP)</td>\n",
       "      <td>Baker</td>\n",
       "      <td>Governor - REP</td>\n",
       "      <td>Election Day</td>\n",
       "      <td>41</td>\n",
       "    </tr>\n",
       "    <tr>\n",
       "      <th>4</th>\n",
       "      <td>L.S. \"CASEY\" CAGLE  (REP)</td>\n",
       "      <td>Baldwin</td>\n",
       "      <td>Governor - REP</td>\n",
       "      <td>Election Day</td>\n",
       "      <td>355</td>\n",
       "    </tr>\n",
       "  </tbody>\n",
       "</table>\n",
       "</div>"
      ],
      "text/plain": [
       "             candidate_party    county            race     vote_type votes\n",
       "0  L.S. \"CASEY\" CAGLE  (REP)   Appling  Governor - REP  Election Day   152\n",
       "1  L.S. \"CASEY\" CAGLE  (REP)  Atkinson  Governor - REP  Election Day    76\n",
       "2  L.S. \"CASEY\" CAGLE  (REP)     Bacon  Governor - REP  Election Day    58\n",
       "3  L.S. \"CASEY\" CAGLE  (REP)     Baker  Governor - REP  Election Day    41\n",
       "4  L.S. \"CASEY\" CAGLE  (REP)   Baldwin  Governor - REP  Election Day   355"
      ]
     },
     "execution_count": 6,
     "metadata": {},
     "output_type": "execute_result"
    }
   ],
   "source": [
    "df.head()"
   ]
  },
  {
   "cell_type": "code",
   "execution_count": 7,
   "metadata": {},
   "outputs": [
    {
     "data": {
      "text/plain": [
       "(5328, 5)"
      ]
     },
     "execution_count": 7,
     "metadata": {},
     "output_type": "execute_result"
    }
   ],
   "source": [
    "df.shape"
   ]
  },
  {
   "cell_type": "code",
   "execution_count": 8,
   "metadata": {},
   "outputs": [],
   "source": [
    "df['votes'] = df['votes'].astype(int)"
   ]
  },
  {
   "cell_type": "code",
   "execution_count": 9,
   "metadata": {},
   "outputs": [
    {
     "name": "stdout",
     "output_type": "stream",
     "text": [
      "<class 'pandas.core.frame.DataFrame'>\n",
      "RangeIndex: 5328 entries, 0 to 5327\n",
      "Data columns (total 5 columns):\n",
      "candidate_party    5328 non-null object\n",
      "county             5328 non-null object\n",
      "race               5328 non-null object\n",
      "vote_type          5328 non-null object\n",
      "votes              5328 non-null int64\n",
      "dtypes: int64(1), object(4)\n",
      "memory usage: 208.2+ KB\n"
     ]
    }
   ],
   "source": [
    "df.info()"
   ]
  },
  {
   "cell_type": "code",
   "execution_count": 10,
   "metadata": {},
   "outputs": [],
   "source": [
    "df.to_csv('ga_primary_runoff_20180724.csv', index=False)"
   ]
  }
 ],
 "metadata": {
  "kernelspec": {
   "display_name": "Python 3",
   "language": "python",
   "name": "python3"
  },
  "language_info": {
   "codemirror_mode": {
    "name": "ipython",
    "version": 3
   },
   "file_extension": ".py",
   "mimetype": "text/x-python",
   "name": "python",
   "nbconvert_exporter": "python",
   "pygments_lexer": "ipython3",
   "version": "3.6.6"
  }
 },
 "nbformat": 4,
 "nbformat_minor": 2
}
