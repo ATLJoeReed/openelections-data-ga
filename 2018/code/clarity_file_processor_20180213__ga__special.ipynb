{
 "cells": [
  {
   "cell_type": "code",
   "execution_count": 1,
   "metadata": {},
   "outputs": [],
   "source": [
    "import xml.etree.ElementTree as ET\n",
    "import pandas as pd"
   ]
  },
  {
   "cell_type": "code",
   "execution_count": 2,
   "metadata": {},
   "outputs": [],
   "source": [
    "def attrib_extractor(xml, attrib):\n",
    "    return xml.attrib.get(attrib, None)"
   ]
  },
  {
   "cell_type": "code",
   "execution_count": 3,
   "metadata": {},
   "outputs": [],
   "source": [
    "tree = ET.parse('raw_xml/20180213__ga__special.xml')\n",
    "root = tree.getroot()"
   ]
  },
  {
   "cell_type": "code",
   "execution_count": 4,
   "metadata": {},
   "outputs": [],
   "source": [
    "results = []\n",
    "contests = root.findall('Contest')\n",
    "for contest in contests:\n",
    "    race = attrib_extractor(contest, 'text')\n",
    "    choices = contest.findall('Choice')\n",
    "    for choice in choices:\n",
    "        candidate_party = attrib_extractor(choice, 'text')\n",
    "        vote_types = choice.findall('VoteType')\n",
    "        for v in vote_types:\n",
    "            vote_type = attrib_extractor(v, 'name')        \n",
    "            for child in v:\n",
    "                line = {}    \n",
    "                line['race'] = race\n",
    "                line['candidate_party'] = candidate_party\n",
    "                line['vote_type'] = vote_type\n",
    "                line['county'] = attrib_extractor(child, 'name')\n",
    "                line['votes'] = attrib_extractor(child, 'votes')\n",
    "                results.append(line)"
   ]
  },
  {
   "cell_type": "code",
   "execution_count": 5,
   "metadata": {},
   "outputs": [],
   "source": [
    "df = pd.DataFrame(results)"
   ]
  },
  {
   "cell_type": "code",
   "execution_count": 6,
   "metadata": {},
   "outputs": [
    {
     "data": {
      "text/html": [
       "<div>\n",
       "<style scoped>\n",
       "    .dataframe tbody tr th:only-of-type {\n",
       "        vertical-align: middle;\n",
       "    }\n",
       "\n",
       "    .dataframe tbody tr th {\n",
       "        vertical-align: top;\n",
       "    }\n",
       "\n",
       "    .dataframe thead th {\n",
       "        text-align: right;\n",
       "    }\n",
       "</style>\n",
       "<table border=\"1\" class=\"dataframe\">\n",
       "  <thead>\n",
       "    <tr style=\"text-align: right;\">\n",
       "      <th></th>\n",
       "      <th>candidate_party</th>\n",
       "      <th>county</th>\n",
       "      <th>race</th>\n",
       "      <th>vote_type</th>\n",
       "      <th>votes</th>\n",
       "    </tr>\n",
       "  </thead>\n",
       "  <tbody>\n",
       "    <tr>\n",
       "      <th>0</th>\n",
       "      <td>TREVA GEAR (DEM)</td>\n",
       "      <td>Brooks</td>\n",
       "      <td>State Representative, District 175</td>\n",
       "      <td>Election Day</td>\n",
       "      <td>170</td>\n",
       "    </tr>\n",
       "    <tr>\n",
       "      <th>1</th>\n",
       "      <td>TREVA GEAR (DEM)</td>\n",
       "      <td>Lowndes</td>\n",
       "      <td>State Representative, District 175</td>\n",
       "      <td>Election Day</td>\n",
       "      <td>168</td>\n",
       "    </tr>\n",
       "    <tr>\n",
       "      <th>2</th>\n",
       "      <td>TREVA GEAR (DEM)</td>\n",
       "      <td>Thomas</td>\n",
       "      <td>State Representative, District 175</td>\n",
       "      <td>Election Day</td>\n",
       "      <td>139</td>\n",
       "    </tr>\n",
       "    <tr>\n",
       "      <th>3</th>\n",
       "      <td>TREVA GEAR (DEM)</td>\n",
       "      <td>Brooks</td>\n",
       "      <td>State Representative, District 175</td>\n",
       "      <td>Absentee by Mail</td>\n",
       "      <td>16</td>\n",
       "    </tr>\n",
       "    <tr>\n",
       "      <th>4</th>\n",
       "      <td>TREVA GEAR (DEM)</td>\n",
       "      <td>Lowndes</td>\n",
       "      <td>State Representative, District 175</td>\n",
       "      <td>Absentee by Mail</td>\n",
       "      <td>4</td>\n",
       "    </tr>\n",
       "  </tbody>\n",
       "</table>\n",
       "</div>"
      ],
      "text/plain": [
       "    candidate_party   county                                race  \\\n",
       "0  TREVA GEAR (DEM)   Brooks  State Representative, District 175   \n",
       "1  TREVA GEAR (DEM)  Lowndes  State Representative, District 175   \n",
       "2  TREVA GEAR (DEM)   Thomas  State Representative, District 175   \n",
       "3  TREVA GEAR (DEM)   Brooks  State Representative, District 175   \n",
       "4  TREVA GEAR (DEM)  Lowndes  State Representative, District 175   \n",
       "\n",
       "          vote_type votes  \n",
       "0      Election Day   170  \n",
       "1      Election Day   168  \n",
       "2      Election Day   139  \n",
       "3  Absentee by Mail    16  \n",
       "4  Absentee by Mail     4  "
      ]
     },
     "execution_count": 6,
     "metadata": {},
     "output_type": "execute_result"
    }
   ],
   "source": [
    "df.head()"
   ]
  },
  {
   "cell_type": "code",
   "execution_count": 7,
   "metadata": {},
   "outputs": [
    {
     "data": {
      "text/plain": [
       "(48, 5)"
      ]
     },
     "execution_count": 7,
     "metadata": {},
     "output_type": "execute_result"
    }
   ],
   "source": [
    "df.shape"
   ]
  },
  {
   "cell_type": "code",
   "execution_count": 8,
   "metadata": {},
   "outputs": [],
   "source": [
    "df['votes'] = df['votes'].astype(int)"
   ]
  },
  {
   "cell_type": "code",
   "execution_count": 9,
   "metadata": {},
   "outputs": [
    {
     "name": "stdout",
     "output_type": "stream",
     "text": [
      "<class 'pandas.core.frame.DataFrame'>\n",
      "RangeIndex: 48 entries, 0 to 47\n",
      "Data columns (total 5 columns):\n",
      "candidate_party    48 non-null object\n",
      "county             48 non-null object\n",
      "race               48 non-null object\n",
      "vote_type          48 non-null object\n",
      "votes              48 non-null int64\n",
      "dtypes: int64(1), object(4)\n",
      "memory usage: 2.0+ KB\n"
     ]
    }
   ],
   "source": [
    "df.info()"
   ]
  },
  {
   "cell_type": "code",
   "execution_count": 10,
   "metadata": {},
   "outputs": [
    {
     "data": {
      "text/plain": [
       "candidate_party\n",
       "BRUCE PHELPS (REP)      75\n",
       "COY REAVES (REP)       117\n",
       "JOHN LAHOOD (REP)     2355\n",
       "TREVA GEAR (DEM)       784\n",
       "Name: votes, dtype: int64"
      ]
     },
     "execution_count": 10,
     "metadata": {},
     "output_type": "execute_result"
    }
   ],
   "source": [
    "df.groupby(['candidate_party'])['votes'].sum()"
   ]
  },
  {
   "cell_type": "code",
   "execution_count": 11,
   "metadata": {},
   "outputs": [
    {
     "data": {
      "text/plain": [
       "race\n",
       "State Representative, District 175    3331\n",
       "Name: votes, dtype: int64"
      ]
     },
     "execution_count": 11,
     "metadata": {},
     "output_type": "execute_result"
    }
   ],
   "source": [
    "df.groupby(['race'])['votes'].sum()"
   ]
  },
  {
   "cell_type": "code",
   "execution_count": 12,
   "metadata": {},
   "outputs": [],
   "source": [
    "df['candidate'] = df['candidate_party'].str[:-5]\n",
    "df.loc[df['candidate_party'].str.contains('(REP)', regex=False), 'party'] = 'Republican'\n",
    "df.loc[df['candidate_party'].str.contains('(DEM)', regex=False), 'party'] = 'Democrat'"
   ]
  },
  {
   "cell_type": "code",
   "execution_count": 13,
   "metadata": {},
   "outputs": [],
   "source": [
    "df['office'] = df.race.str.split(',').str.get(0)\n",
    "df['district'] = df.race.str.split(',').str.get(1).str.replace('District', '')"
   ]
  },
  {
   "cell_type": "code",
   "execution_count": 14,
   "metadata": {},
   "outputs": [
    {
     "data": {
      "text/html": [
       "<div>\n",
       "<style scoped>\n",
       "    .dataframe tbody tr th:only-of-type {\n",
       "        vertical-align: middle;\n",
       "    }\n",
       "\n",
       "    .dataframe tbody tr th {\n",
       "        vertical-align: top;\n",
       "    }\n",
       "\n",
       "    .dataframe thead th {\n",
       "        text-align: right;\n",
       "    }\n",
       "</style>\n",
       "<table border=\"1\" class=\"dataframe\">\n",
       "  <thead>\n",
       "    <tr style=\"text-align: right;\">\n",
       "      <th></th>\n",
       "      <th>county</th>\n",
       "      <th>office</th>\n",
       "      <th>district</th>\n",
       "      <th>candidate</th>\n",
       "      <th>party</th>\n",
       "      <th>votes</th>\n",
       "    </tr>\n",
       "  </thead>\n",
       "  <tbody>\n",
       "    <tr>\n",
       "      <th>0</th>\n",
       "      <td>Brooks</td>\n",
       "      <td>State Representative</td>\n",
       "      <td>175</td>\n",
       "      <td>BRUCE PHELPS</td>\n",
       "      <td>Republican</td>\n",
       "      <td>27</td>\n",
       "    </tr>\n",
       "    <tr>\n",
       "      <th>1</th>\n",
       "      <td>Brooks</td>\n",
       "      <td>State Representative</td>\n",
       "      <td>175</td>\n",
       "      <td>COY REAVES</td>\n",
       "      <td>Republican</td>\n",
       "      <td>72</td>\n",
       "    </tr>\n",
       "    <tr>\n",
       "      <th>2</th>\n",
       "      <td>Brooks</td>\n",
       "      <td>State Representative</td>\n",
       "      <td>175</td>\n",
       "      <td>JOHN LAHOOD</td>\n",
       "      <td>Republican</td>\n",
       "      <td>901</td>\n",
       "    </tr>\n",
       "    <tr>\n",
       "      <th>3</th>\n",
       "      <td>Brooks</td>\n",
       "      <td>State Representative</td>\n",
       "      <td>175</td>\n",
       "      <td>TREVA GEAR</td>\n",
       "      <td>Democrat</td>\n",
       "      <td>262</td>\n",
       "    </tr>\n",
       "    <tr>\n",
       "      <th>4</th>\n",
       "      <td>Lowndes</td>\n",
       "      <td>State Representative</td>\n",
       "      <td>175</td>\n",
       "      <td>BRUCE PHELPS</td>\n",
       "      <td>Republican</td>\n",
       "      <td>35</td>\n",
       "    </tr>\n",
       "    <tr>\n",
       "      <th>5</th>\n",
       "      <td>Lowndes</td>\n",
       "      <td>State Representative</td>\n",
       "      <td>175</td>\n",
       "      <td>COY REAVES</td>\n",
       "      <td>Republican</td>\n",
       "      <td>23</td>\n",
       "    </tr>\n",
       "    <tr>\n",
       "      <th>6</th>\n",
       "      <td>Lowndes</td>\n",
       "      <td>State Representative</td>\n",
       "      <td>175</td>\n",
       "      <td>JOHN LAHOOD</td>\n",
       "      <td>Republican</td>\n",
       "      <td>1030</td>\n",
       "    </tr>\n",
       "    <tr>\n",
       "      <th>7</th>\n",
       "      <td>Lowndes</td>\n",
       "      <td>State Representative</td>\n",
       "      <td>175</td>\n",
       "      <td>TREVA GEAR</td>\n",
       "      <td>Democrat</td>\n",
       "      <td>303</td>\n",
       "    </tr>\n",
       "    <tr>\n",
       "      <th>8</th>\n",
       "      <td>Thomas</td>\n",
       "      <td>State Representative</td>\n",
       "      <td>175</td>\n",
       "      <td>BRUCE PHELPS</td>\n",
       "      <td>Republican</td>\n",
       "      <td>13</td>\n",
       "    </tr>\n",
       "    <tr>\n",
       "      <th>9</th>\n",
       "      <td>Thomas</td>\n",
       "      <td>State Representative</td>\n",
       "      <td>175</td>\n",
       "      <td>COY REAVES</td>\n",
       "      <td>Republican</td>\n",
       "      <td>22</td>\n",
       "    </tr>\n",
       "    <tr>\n",
       "      <th>10</th>\n",
       "      <td>Thomas</td>\n",
       "      <td>State Representative</td>\n",
       "      <td>175</td>\n",
       "      <td>JOHN LAHOOD</td>\n",
       "      <td>Republican</td>\n",
       "      <td>424</td>\n",
       "    </tr>\n",
       "    <tr>\n",
       "      <th>11</th>\n",
       "      <td>Thomas</td>\n",
       "      <td>State Representative</td>\n",
       "      <td>175</td>\n",
       "      <td>TREVA GEAR</td>\n",
       "      <td>Democrat</td>\n",
       "      <td>219</td>\n",
       "    </tr>\n",
       "  </tbody>\n",
       "</table>\n",
       "</div>"
      ],
      "text/plain": [
       "     county                office district      candidate       party  votes\n",
       "0    Brooks  State Representative      175  BRUCE PHELPS   Republican     27\n",
       "1    Brooks  State Representative      175    COY REAVES   Republican     72\n",
       "2    Brooks  State Representative      175   JOHN LAHOOD   Republican    901\n",
       "3    Brooks  State Representative      175    TREVA GEAR     Democrat    262\n",
       "4   Lowndes  State Representative      175  BRUCE PHELPS   Republican     35\n",
       "5   Lowndes  State Representative      175    COY REAVES   Republican     23\n",
       "6   Lowndes  State Representative      175   JOHN LAHOOD   Republican   1030\n",
       "7   Lowndes  State Representative      175    TREVA GEAR     Democrat    303\n",
       "8    Thomas  State Representative      175  BRUCE PHELPS   Republican     13\n",
       "9    Thomas  State Representative      175    COY REAVES   Republican     22\n",
       "10   Thomas  State Representative      175   JOHN LAHOOD   Republican    424\n",
       "11   Thomas  State Representative      175    TREVA GEAR     Democrat    219"
      ]
     },
     "execution_count": 14,
     "metadata": {},
     "output_type": "execute_result"
    }
   ],
   "source": [
    "df.groupby(['county', 'office', 'district', 'candidate', 'party'], as_index=False)['votes'].sum()"
   ]
  },
  {
   "cell_type": "code",
   "execution_count": 15,
   "metadata": {},
   "outputs": [],
   "source": [
    "results = df.groupby(['county', 'office', 'district', 'candidate', 'party'], as_index=False)['votes'].sum()"
   ]
  },
  {
   "cell_type": "code",
   "execution_count": 16,
   "metadata": {},
   "outputs": [],
   "source": [
    "results['office'] = results.office.str.strip()\n",
    "results['district'] = results.district.str.strip()\n",
    "results['candidate'] = results.candidate.str.strip()"
   ]
  },
  {
   "cell_type": "code",
   "execution_count": 17,
   "metadata": {},
   "outputs": [],
   "source": [
    "sort_columns = ['office', 'district', 'candidate', 'county']\n",
    "results[['county', 'office', 'district', 'party', 'candidate', 'votes']].sort_values(by=sort_columns).to_clipboard(index=False, sep=',')"
   ]
  },
  {
   "cell_type": "code",
   "execution_count": null,
   "metadata": {},
   "outputs": [],
   "source": []
  }
 ],
 "metadata": {
  "kernelspec": {
   "display_name": "Python 3",
   "language": "python",
   "name": "python3"
  },
  "language_info": {
   "codemirror_mode": {
    "name": "ipython",
    "version": 3
   },
   "file_extension": ".py",
   "mimetype": "text/x-python",
   "name": "python",
   "nbconvert_exporter": "python",
   "pygments_lexer": "ipython3",
   "version": "3.6.6"
  }
 },
 "nbformat": 4,
 "nbformat_minor": 2
}
