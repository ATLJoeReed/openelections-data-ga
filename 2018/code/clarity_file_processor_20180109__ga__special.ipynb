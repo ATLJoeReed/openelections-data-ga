{
 "cells": [
  {
   "cell_type": "code",
   "execution_count": 1,
   "metadata": {},
   "outputs": [],
   "source": [
    "import xml.etree.ElementTree as ET\n",
    "import pandas as pd"
   ]
  },
  {
   "cell_type": "code",
   "execution_count": 9,
   "metadata": {},
   "outputs": [],
   "source": [
    "def attrib_extractor(xml, attrib):\n",
    "    return xml.attrib.get(attrib, None)"
   ]
  },
  {
   "cell_type": "code",
   "execution_count": 10,
   "metadata": {},
   "outputs": [],
   "source": [
    "tree = ET.parse('raw_xml/20180109__ga__special.xml')\n",
    "root = tree.getroot()"
   ]
  },
  {
   "cell_type": "code",
   "execution_count": 11,
   "metadata": {},
   "outputs": [],
   "source": [
    "results = []\n",
    "contests = root.findall('Contest')\n",
    "for contest in contests:\n",
    "    race = attrib_extractor(contest, 'text')\n",
    "    choices = contest.findall('Choice')\n",
    "    for choice in choices:\n",
    "        candidate_party = attrib_extractor(choice, 'text')\n",
    "        vote_types = choice.findall('VoteType')\n",
    "        for v in vote_types:\n",
    "            vote_type = attrib_extractor(v, 'name')        \n",
    "            for child in v:\n",
    "                line = {}    \n",
    "                line['race'] = race\n",
    "                line['candidate_party'] = candidate_party\n",
    "                line['vote_type'] = vote_type\n",
    "                line['county'] = attrib_extractor(child, 'name')\n",
    "                line['votes'] = attrib_extractor(child, 'votes')\n",
    "                results.append(line)"
   ]
  },
  {
   "cell_type": "code",
   "execution_count": 12,
   "metadata": {},
   "outputs": [],
   "source": [
    "df = pd.DataFrame(results)"
   ]
  },
  {
   "cell_type": "code",
   "execution_count": 13,
   "metadata": {},
   "outputs": [
    {
     "data": {
      "text/html": [
       "<div>\n",
       "<style scoped>\n",
       "    .dataframe tbody tr th:only-of-type {\n",
       "        vertical-align: middle;\n",
       "    }\n",
       "\n",
       "    .dataframe tbody tr th {\n",
       "        vertical-align: top;\n",
       "    }\n",
       "\n",
       "    .dataframe thead th {\n",
       "        text-align: right;\n",
       "    }\n",
       "</style>\n",
       "<table border=\"1\" class=\"dataframe\">\n",
       "  <thead>\n",
       "    <tr style=\"text-align: right;\">\n",
       "      <th></th>\n",
       "      <th>candidate_party</th>\n",
       "      <th>county</th>\n",
       "      <th>race</th>\n",
       "      <th>vote_type</th>\n",
       "      <th>votes</th>\n",
       "    </tr>\n",
       "  </thead>\n",
       "  <tbody>\n",
       "    <tr>\n",
       "      <th>0</th>\n",
       "      <td>PHYLLIS HATCHER (DEM)</td>\n",
       "      <td>Henry</td>\n",
       "      <td>State Senator, District 17</td>\n",
       "      <td>Election Day</td>\n",
       "      <td>1472</td>\n",
       "    </tr>\n",
       "    <tr>\n",
       "      <th>1</th>\n",
       "      <td>PHYLLIS HATCHER (DEM)</td>\n",
       "      <td>Newton</td>\n",
       "      <td>State Senator, District 17</td>\n",
       "      <td>Election Day</td>\n",
       "      <td>313</td>\n",
       "    </tr>\n",
       "    <tr>\n",
       "      <th>2</th>\n",
       "      <td>PHYLLIS HATCHER (DEM)</td>\n",
       "      <td>Rockdale</td>\n",
       "      <td>State Senator, District 17</td>\n",
       "      <td>Election Day</td>\n",
       "      <td>333</td>\n",
       "    </tr>\n",
       "    <tr>\n",
       "      <th>3</th>\n",
       "      <td>PHYLLIS HATCHER (DEM)</td>\n",
       "      <td>Henry</td>\n",
       "      <td>State Senator, District 17</td>\n",
       "      <td>Absentee by Mail</td>\n",
       "      <td>101</td>\n",
       "    </tr>\n",
       "    <tr>\n",
       "      <th>4</th>\n",
       "      <td>PHYLLIS HATCHER (DEM)</td>\n",
       "      <td>Newton</td>\n",
       "      <td>State Senator, District 17</td>\n",
       "      <td>Absentee by Mail</td>\n",
       "      <td>2</td>\n",
       "    </tr>\n",
       "  </tbody>\n",
       "</table>\n",
       "</div>"
      ],
      "text/plain": [
       "         candidate_party    county                        race  \\\n",
       "0  PHYLLIS HATCHER (DEM)     Henry  State Senator, District 17   \n",
       "1  PHYLLIS HATCHER (DEM)    Newton  State Senator, District 17   \n",
       "2  PHYLLIS HATCHER (DEM)  Rockdale  State Senator, District 17   \n",
       "3  PHYLLIS HATCHER (DEM)     Henry  State Senator, District 17   \n",
       "4  PHYLLIS HATCHER (DEM)    Newton  State Senator, District 17   \n",
       "\n",
       "          vote_type votes  \n",
       "0      Election Day  1472  \n",
       "1      Election Day   313  \n",
       "2      Election Day   333  \n",
       "3  Absentee by Mail   101  \n",
       "4  Absentee by Mail     2  "
      ]
     },
     "execution_count": 13,
     "metadata": {},
     "output_type": "execute_result"
    }
   ],
   "source": [
    "df.head()"
   ]
  },
  {
   "cell_type": "code",
   "execution_count": 14,
   "metadata": {},
   "outputs": [
    {
     "data": {
      "text/plain": [
       "(64, 5)"
      ]
     },
     "execution_count": 14,
     "metadata": {},
     "output_type": "execute_result"
    }
   ],
   "source": [
    "df.shape"
   ]
  },
  {
   "cell_type": "code",
   "execution_count": 15,
   "metadata": {},
   "outputs": [],
   "source": [
    "df['votes'] = df['votes'].astype(int)"
   ]
  },
  {
   "cell_type": "code",
   "execution_count": 16,
   "metadata": {},
   "outputs": [
    {
     "name": "stdout",
     "output_type": "stream",
     "text": [
      "<class 'pandas.core.frame.DataFrame'>\n",
      "RangeIndex: 64 entries, 0 to 63\n",
      "Data columns (total 5 columns):\n",
      "candidate_party    64 non-null object\n",
      "county             64 non-null object\n",
      "race               64 non-null object\n",
      "vote_type          64 non-null object\n",
      "votes              64 non-null int64\n",
      "dtypes: int64(1), object(4)\n",
      "memory usage: 2.6+ KB\n"
     ]
    }
   ],
   "source": [
    "df.info()"
   ]
  },
  {
   "cell_type": "code",
   "execution_count": 17,
   "metadata": {},
   "outputs": [
    {
     "data": {
      "text/plain": [
       "candidate_party\n",
       "BRIAN STRICKLAND (REP)      5003\n",
       "ED TONEY (REP)               198\n",
       "EL-MAHDI HOLLY (DEM)        1122\n",
       "GEOFFREY CAUBLE (REP)       1864\n",
       "LARRY K. MOREY (REP)         215\n",
       "NELVA LEE (REP)               97\n",
       "PHYLLIS HATCHER (DEM)       2774\n",
       "TARJI LEONARD DUNN (DEM)     451\n",
       "Name: votes, dtype: int64"
      ]
     },
     "execution_count": 17,
     "metadata": {},
     "output_type": "execute_result"
    }
   ],
   "source": [
    "df.groupby(['candidate_party'])['votes'].sum()"
   ]
  },
  {
   "cell_type": "code",
   "execution_count": 18,
   "metadata": {},
   "outputs": [
    {
     "data": {
      "text/plain": [
       "race\n",
       "State Representative, District 111    3652\n",
       "State Senator, District 17            8072\n",
       "Name: votes, dtype: int64"
      ]
     },
     "execution_count": 18,
     "metadata": {},
     "output_type": "execute_result"
    }
   ],
   "source": [
    "df.groupby(['race'])['votes'].sum()"
   ]
  },
  {
   "cell_type": "code",
   "execution_count": 19,
   "metadata": {},
   "outputs": [],
   "source": [
    "df['candidate'] = df['candidate_party'].str[:-5]\n",
    "df.loc[df['candidate_party'].str.contains('(REP)', regex=False), 'party'] = 'Republican'\n",
    "df.loc[df['candidate_party'].str.contains('(DEM)', regex=False), 'party'] = 'Democrat'"
   ]
  },
  {
   "cell_type": "code",
   "execution_count": 20,
   "metadata": {},
   "outputs": [],
   "source": [
    "df['office'] = df.race.str.split(',').str.get(0)\n",
    "df['district'] = df.race.str.split(',').str.get(1).str.replace('District', '')"
   ]
  },
  {
   "cell_type": "code",
   "execution_count": 22,
   "metadata": {},
   "outputs": [
    {
     "data": {
      "text/html": [
       "<div>\n",
       "<style scoped>\n",
       "    .dataframe tbody tr th:only-of-type {\n",
       "        vertical-align: middle;\n",
       "    }\n",
       "\n",
       "    .dataframe tbody tr th {\n",
       "        vertical-align: top;\n",
       "    }\n",
       "\n",
       "    .dataframe thead th {\n",
       "        text-align: right;\n",
       "    }\n",
       "</style>\n",
       "<table border=\"1\" class=\"dataframe\">\n",
       "  <thead>\n",
       "    <tr style=\"text-align: right;\">\n",
       "      <th></th>\n",
       "      <th>county</th>\n",
       "      <th>office</th>\n",
       "      <th>district</th>\n",
       "      <th>candidate</th>\n",
       "      <th>party</th>\n",
       "      <th>votes</th>\n",
       "    </tr>\n",
       "  </thead>\n",
       "  <tbody>\n",
       "    <tr>\n",
       "      <th>0</th>\n",
       "      <td>Henry</td>\n",
       "      <td>State Representative</td>\n",
       "      <td>111</td>\n",
       "      <td>EL-MAHDI HOLLY</td>\n",
       "      <td>Democrat</td>\n",
       "      <td>1122</td>\n",
       "    </tr>\n",
       "    <tr>\n",
       "      <th>1</th>\n",
       "      <td>Henry</td>\n",
       "      <td>State Representative</td>\n",
       "      <td>111</td>\n",
       "      <td>GEOFFREY CAUBLE</td>\n",
       "      <td>Republican</td>\n",
       "      <td>1864</td>\n",
       "    </tr>\n",
       "    <tr>\n",
       "      <th>2</th>\n",
       "      <td>Henry</td>\n",
       "      <td>State Representative</td>\n",
       "      <td>111</td>\n",
       "      <td>LARRY K. MOREY</td>\n",
       "      <td>Republican</td>\n",
       "      <td>215</td>\n",
       "    </tr>\n",
       "    <tr>\n",
       "      <th>3</th>\n",
       "      <td>Henry</td>\n",
       "      <td>State Representative</td>\n",
       "      <td>111</td>\n",
       "      <td>TARJI LEONARD DUNN</td>\n",
       "      <td>Democrat</td>\n",
       "      <td>451</td>\n",
       "    </tr>\n",
       "    <tr>\n",
       "      <th>4</th>\n",
       "      <td>Henry</td>\n",
       "      <td>State Senator</td>\n",
       "      <td>17</td>\n",
       "      <td>BRIAN STRICKLAND</td>\n",
       "      <td>Republican</td>\n",
       "      <td>3637</td>\n",
       "    </tr>\n",
       "    <tr>\n",
       "      <th>5</th>\n",
       "      <td>Henry</td>\n",
       "      <td>State Senator</td>\n",
       "      <td>17</td>\n",
       "      <td>ED TONEY</td>\n",
       "      <td>Republican</td>\n",
       "      <td>160</td>\n",
       "    </tr>\n",
       "    <tr>\n",
       "      <th>6</th>\n",
       "      <td>Henry</td>\n",
       "      <td>State Senator</td>\n",
       "      <td>17</td>\n",
       "      <td>NELVA LEE</td>\n",
       "      <td>Republican</td>\n",
       "      <td>82</td>\n",
       "    </tr>\n",
       "    <tr>\n",
       "      <th>7</th>\n",
       "      <td>Henry</td>\n",
       "      <td>State Senator</td>\n",
       "      <td>17</td>\n",
       "      <td>PHYLLIS HATCHER</td>\n",
       "      <td>Democrat</td>\n",
       "      <td>1973</td>\n",
       "    </tr>\n",
       "    <tr>\n",
       "      <th>8</th>\n",
       "      <td>Newton</td>\n",
       "      <td>State Senator</td>\n",
       "      <td>17</td>\n",
       "      <td>BRIAN STRICKLAND</td>\n",
       "      <td>Republican</td>\n",
       "      <td>895</td>\n",
       "    </tr>\n",
       "    <tr>\n",
       "      <th>9</th>\n",
       "      <td>Newton</td>\n",
       "      <td>State Senator</td>\n",
       "      <td>17</td>\n",
       "      <td>ED TONEY</td>\n",
       "      <td>Republican</td>\n",
       "      <td>27</td>\n",
       "    </tr>\n",
       "    <tr>\n",
       "      <th>10</th>\n",
       "      <td>Newton</td>\n",
       "      <td>State Senator</td>\n",
       "      <td>17</td>\n",
       "      <td>NELVA LEE</td>\n",
       "      <td>Republican</td>\n",
       "      <td>7</td>\n",
       "    </tr>\n",
       "    <tr>\n",
       "      <th>11</th>\n",
       "      <td>Newton</td>\n",
       "      <td>State Senator</td>\n",
       "      <td>17</td>\n",
       "      <td>PHYLLIS HATCHER</td>\n",
       "      <td>Democrat</td>\n",
       "      <td>402</td>\n",
       "    </tr>\n",
       "    <tr>\n",
       "      <th>12</th>\n",
       "      <td>Rockdale</td>\n",
       "      <td>State Senator</td>\n",
       "      <td>17</td>\n",
       "      <td>BRIAN STRICKLAND</td>\n",
       "      <td>Republican</td>\n",
       "      <td>471</td>\n",
       "    </tr>\n",
       "    <tr>\n",
       "      <th>13</th>\n",
       "      <td>Rockdale</td>\n",
       "      <td>State Senator</td>\n",
       "      <td>17</td>\n",
       "      <td>ED TONEY</td>\n",
       "      <td>Republican</td>\n",
       "      <td>11</td>\n",
       "    </tr>\n",
       "    <tr>\n",
       "      <th>14</th>\n",
       "      <td>Rockdale</td>\n",
       "      <td>State Senator</td>\n",
       "      <td>17</td>\n",
       "      <td>NELVA LEE</td>\n",
       "      <td>Republican</td>\n",
       "      <td>8</td>\n",
       "    </tr>\n",
       "    <tr>\n",
       "      <th>15</th>\n",
       "      <td>Rockdale</td>\n",
       "      <td>State Senator</td>\n",
       "      <td>17</td>\n",
       "      <td>PHYLLIS HATCHER</td>\n",
       "      <td>Democrat</td>\n",
       "      <td>399</td>\n",
       "    </tr>\n",
       "  </tbody>\n",
       "</table>\n",
       "</div>"
      ],
      "text/plain": [
       "      county                office district            candidate       party  \\\n",
       "0      Henry  State Representative      111      EL-MAHDI HOLLY     Democrat   \n",
       "1      Henry  State Representative      111     GEOFFREY CAUBLE   Republican   \n",
       "2      Henry  State Representative      111      LARRY K. MOREY   Republican   \n",
       "3      Henry  State Representative      111  TARJI LEONARD DUNN     Democrat   \n",
       "4      Henry         State Senator       17    BRIAN STRICKLAND   Republican   \n",
       "5      Henry         State Senator       17            ED TONEY   Republican   \n",
       "6      Henry         State Senator       17           NELVA LEE   Republican   \n",
       "7      Henry         State Senator       17     PHYLLIS HATCHER     Democrat   \n",
       "8     Newton         State Senator       17    BRIAN STRICKLAND   Republican   \n",
       "9     Newton         State Senator       17            ED TONEY   Republican   \n",
       "10    Newton         State Senator       17           NELVA LEE   Republican   \n",
       "11    Newton         State Senator       17     PHYLLIS HATCHER     Democrat   \n",
       "12  Rockdale         State Senator       17    BRIAN STRICKLAND   Republican   \n",
       "13  Rockdale         State Senator       17            ED TONEY   Republican   \n",
       "14  Rockdale         State Senator       17           NELVA LEE   Republican   \n",
       "15  Rockdale         State Senator       17     PHYLLIS HATCHER     Democrat   \n",
       "\n",
       "    votes  \n",
       "0    1122  \n",
       "1    1864  \n",
       "2     215  \n",
       "3     451  \n",
       "4    3637  \n",
       "5     160  \n",
       "6      82  \n",
       "7    1973  \n",
       "8     895  \n",
       "9      27  \n",
       "10      7  \n",
       "11    402  \n",
       "12    471  \n",
       "13     11  \n",
       "14      8  \n",
       "15    399  "
      ]
     },
     "execution_count": 22,
     "metadata": {},
     "output_type": "execute_result"
    }
   ],
   "source": [
    "df.groupby(['county', 'office', 'district', 'candidate', 'party'], as_index=False)['votes'].sum()"
   ]
  },
  {
   "cell_type": "code",
   "execution_count": 23,
   "metadata": {},
   "outputs": [],
   "source": [
    "results = df.groupby(['county', 'office', 'district', 'candidate', 'party'], as_index=False)['votes'].sum()"
   ]
  },
  {
   "cell_type": "code",
   "execution_count": 27,
   "metadata": {},
   "outputs": [],
   "source": [
    "results['office'] = results.office.str.strip()\n",
    "results['district'] = results.district.str.strip()\n",
    "results['candidate'] = results.candidate.str.strip()"
   ]
  },
  {
   "cell_type": "code",
   "execution_count": 30,
   "metadata": {},
   "outputs": [],
   "source": [
    "sort_columns = ['office', 'district', 'candidate', 'county']\n",
    "results[['county', 'office', 'district', 'party', 'candidate', 'votes']].sort_values(by=sort_columns).to_clipboard(index=False, sep=',')"
   ]
  },
  {
   "cell_type": "code",
   "execution_count": null,
   "metadata": {},
   "outputs": [],
   "source": []
  }
 ],
 "metadata": {
  "kernelspec": {
   "display_name": "Python 3",
   "language": "python",
   "name": "python3"
  },
  "language_info": {
   "codemirror_mode": {
    "name": "ipython",
    "version": 3
   },
   "file_extension": ".py",
   "mimetype": "text/x-python",
   "name": "python",
   "nbconvert_exporter": "python",
   "pygments_lexer": "ipython3",
   "version": "3.6.6"
  }
 },
 "nbformat": 4,
 "nbformat_minor": 2
}
