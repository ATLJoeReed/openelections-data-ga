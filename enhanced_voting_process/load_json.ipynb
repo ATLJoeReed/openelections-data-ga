{
 "cells": [
  {
   "cell_type": "code",
   "execution_count": 1,
   "id": "914091e5-7226-4673-9b62-816b2909f333",
   "metadata": {},
   "outputs": [],
   "source": [
    "import json\n",
    "import os\n",
    "\n",
    "from ipyfilechooser import FileChooser\n",
    "import pandas as pd\n",
    "import pydantic_core\n",
    "\n",
    "import enhanced_json_model\n",
    "import utils"
   ]
  },
  {
   "cell_type": "code",
   "execution_count": 2,
   "id": "99eb96d9-d227-4413-b4fc-b25ca77a4564",
   "metadata": {},
   "outputs": [],
   "source": [
    "source_path = '/home/skunkworks/development/openelections-sources-ga'\n",
    "output_path = '/home/skunkworks/development/openelections-data-ga/2024/code'"
   ]
  },
  {
   "cell_type": "code",
   "execution_count": 3,
   "id": "2e794055-a88e-4b72-89f0-eb420b2ad97e",
   "metadata": {},
   "outputs": [
    {
     "data": {
      "application/vnd.jupyter.widget-view+json": {
       "model_id": "233347302af642af82eb91c8e81cdd28",
       "version_major": 2,
       "version_minor": 0
      },
      "text/plain": [
       "FileChooser(path='/home/skunkworks/development/openelections-sources-ga', filename='', title='', show_hidden=F…"
      ]
     },
     "metadata": {},
     "output_type": "display_data"
    }
   ],
   "source": [
    "# Documentation: https://github.com/crahan/ipyfilechooser\n",
    "fc = FileChooser(source_path)\n",
    "display(fc)"
   ]
  },
  {
   "cell_type": "code",
   "execution_count": 4,
   "id": "1e05596a-f305-4987-9ab1-d893a76b9341",
   "metadata": {},
   "outputs": [],
   "source": [
    "source_file = fc.selected"
   ]
  },
  {
   "cell_type": "code",
   "execution_count": 5,
   "id": "cbf383cb-3ad6-4680-af56-af3f590554ac",
   "metadata": {},
   "outputs": [],
   "source": [
    "with open(source_file, 'r') as f:\n",
    "    data = f.read()"
   ]
  },
  {
   "cell_type": "code",
   "execution_count": 6,
   "id": "72287787-744f-4c71-b6a5-6e1292ce7f95",
   "metadata": {},
   "outputs": [],
   "source": [
    "m = enhanced_json_model.ElectionResults.model_validate(\n",
    "    pydantic_core.from_json(data)\n",
    ")"
   ]
  },
  {
   "cell_type": "code",
   "execution_count": 7,
   "id": "0b6dd9a6-02e4-4cf4-9de5-e5c15978e86e",
   "metadata": {},
   "outputs": [],
   "source": [
    "data = m.model_dump_json()"
   ]
  },
  {
   "cell_type": "code",
   "execution_count": 8,
   "id": "76f5c2fc-18fd-48bc-875f-56790943e7b0",
   "metadata": {},
   "outputs": [],
   "source": [
    "flatten_data = utils.flatten_precinct_level_election_data(data)"
   ]
  },
  {
   "cell_type": "code",
   "execution_count": 9,
   "id": "f69656c2-d32f-4ace-8be5-f8c9d1517689",
   "metadata": {},
   "outputs": [
    {
     "name": "stdout",
     "output_type": "stream",
     "text": [
      "No precinct data found...\n"
     ]
    }
   ],
   "source": [
    "if flatten_data:\n",
    "    election_date = flatten_data[0].get('election_date').replace('-', '')\n",
    "    filename = f'ga_{election_date}_precinct_level_data.json'\n",
    "    output_filename = os.path.join(output_path, filename)\n",
    "    with open(output_filename, 'w') as f:\n",
    "        json.dump(flatten_data, f)\n",
    "else:\n",
    "    print('No precinct data found...')"
   ]
  },
  {
   "cell_type": "code",
   "execution_count": 10,
   "id": "5268ad61-7fde-46cd-8b10-989cf1d6f55b",
   "metadata": {},
   "outputs": [],
   "source": [
    "flatten_data = utils.flatten_county_level_election_data(data)"
   ]
  },
  {
   "cell_type": "code",
   "execution_count": 11,
   "id": "5778250e-2505-49f5-90e3-da0dbf938c68",
   "metadata": {},
   "outputs": [],
   "source": [
    "if flatten_data:\n",
    "    election_date = flatten_data[0].get('election_date').replace('-', '')\n",
    "    filename = f'ga_{election_date}_county_level_data.json'\n",
    "    output_filename = os.path.join(output_path, filename)\n",
    "    with open(output_filename, 'w') as f:\n",
    "        json.dump(flatten_data, f)\n",
    "else:\n",
    "    print('No county data found...')"
   ]
  },
  {
   "cell_type": "code",
   "execution_count": null,
   "id": "1de78cb7-159c-418a-b7bb-cc76a85f32a7",
   "metadata": {},
   "outputs": [],
   "source": []
  }
 ],
 "metadata": {
  "kernelspec": {
   "display_name": "Python 3 (ipykernel)",
   "language": "python",
   "name": "python3"
  },
  "language_info": {
   "codemirror_mode": {
    "name": "ipython",
    "version": 3
   },
   "file_extension": ".py",
   "mimetype": "text/x-python",
   "name": "python",
   "nbconvert_exporter": "python",
   "pygments_lexer": "ipython3",
   "version": "3.11.9"
  }
 },
 "nbformat": 4,
 "nbformat_minor": 5
}
