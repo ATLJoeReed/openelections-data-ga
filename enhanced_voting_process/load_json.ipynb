{
 "cells": [
  {
   "cell_type": "code",
   "execution_count": 1,
   "id": "914091e5-7226-4673-9b62-816b2909f333",
   "metadata": {},
   "outputs": [],
   "source": [
    "import json\n",
    "\n",
    "import pandas as pd\n",
    "import pydantic_core\n",
    "\n",
    "import enhanced_json_model\n",
    "import utils"
   ]
  },
  {
   "cell_type": "code",
   "execution_count": 2,
   "id": "cbf383cb-3ad6-4680-af56-af3f590554ac",
   "metadata": {},
   "outputs": [],
   "source": [
    "with open('./export-2024NovGen.json', 'r') as f:\n",
    "    data = f.read()"
   ]
  },
  {
   "cell_type": "code",
   "execution_count": 3,
   "id": "72287787-744f-4c71-b6a5-6e1292ce7f95",
   "metadata": {},
   "outputs": [],
   "source": [
    "m = enhanced_json_model.ElectionResults.model_validate(\n",
    "    pydantic_core.from_json(data)\n",
    ")"
   ]
  },
  {
   "cell_type": "code",
   "execution_count": 4,
   "id": "0b6dd9a6-02e4-4cf4-9de5-e5c15978e86e",
   "metadata": {},
   "outputs": [],
   "source": [
    "data = m.model_dump_json()"
   ]
  },
  {
   "cell_type": "code",
   "execution_count": 5,
   "id": "76f5c2fc-18fd-48bc-875f-56790943e7b0",
   "metadata": {},
   "outputs": [],
   "source": [
    "flatten_data = utils.flatten_precinct_level_election_data(data)"
   ]
  },
  {
   "cell_type": "code",
   "execution_count": 6,
   "id": "471a1f83-f1b5-48b5-beb2-727c305fa7e2",
   "metadata": {},
   "outputs": [],
   "source": [
    "with open('precinct_level_data.json', 'w') as f:\n",
    "    json.dump(flatten_data, f)"
   ]
  },
  {
   "cell_type": "code",
   "execution_count": null,
   "id": "5268ad61-7fde-46cd-8b10-989cf1d6f55b",
   "metadata": {},
   "outputs": [],
   "source": [
    "flatten_data = utils.flatten_county_level_election_data(data)"
   ]
  },
  {
   "cell_type": "code",
   "execution_count": null,
   "id": "db222596-99c4-4fe2-9ed8-68f48f92d021",
   "metadata": {},
   "outputs": [],
   "source": [
    "with open('county_level_data.json', 'w') as f:\n",
    "    json.dump(flatten_data, f)"
   ]
  },
  {
   "cell_type": "code",
   "execution_count": null,
   "id": "1de78cb7-159c-418a-b7bb-cc76a85f32a7",
   "metadata": {},
   "outputs": [],
   "source": []
  }
 ],
 "metadata": {
  "kernelspec": {
   "display_name": "Python 3 (ipykernel)",
   "language": "python",
   "name": "python3"
  },
  "language_info": {
   "codemirror_mode": {
    "name": "ipython",
    "version": 3
   },
   "file_extension": ".py",
   "mimetype": "text/x-python",
   "name": "python",
   "nbconvert_exporter": "python",
   "pygments_lexer": "ipython3",
   "version": "3.11.9"
  }
 },
 "nbformat": 4,
 "nbformat_minor": 5
}
