{
 "cells": [
  {
   "cell_type": "code",
   "execution_count": 1,
   "id": "914091e5-7226-4673-9b62-816b2909f333",
   "metadata": {},
   "outputs": [],
   "source": [
    "import json\n",
    "from typing import List, Optional\n",
    "\n",
    "\n",
    "import pandas as pd\n",
    "from pydantic import BaseModel, Field\n",
    "import pydantic_core"
   ]
  },
  {
   "cell_type": "code",
   "execution_count": 2,
   "id": "cb609f16-dd35-4be3-a5a8-dd4f72ac773d",
   "metadata": {},
   "outputs": [],
   "source": [
    "class GroupResult(BaseModel):\n",
    "    vote_type: str = Field(alias='groupName')\n",
    "    votes: int = Field(alias='voteCount')\n",
    "\n",
    "# class PrecinctResult(BaseModel):\n",
    "#     pass\n",
    "\n",
    "class BallotOption(BaseModel):\n",
    "    candidate: str = Field(alias='name')\n",
    "    total_votes: int = Field(alias='voteCount')\n",
    "    party: str = Field(alias='politicalParty')\n",
    "    group_results: List[GroupResult] = Field(alias='groupResults')\n",
    "    # precinct_results: Optional[List[PrecinctResult]] = Field(alias='precintResults')\n",
    "    \n",
    "class BallotItem(BaseModel):\n",
    "    office: str = Field(alias='name')\n",
    "    ballot_options: List[BallotOption] = Field(alias='ballotOptions')\n",
    "\n",
    "class LocalResult(BaseModel):\n",
    "    county: str = Field(alias='name')\n",
    "    ballot_items: List[BallotItem] = Field(alias='ballotItems')\n",
    "\n",
    "class ElectionResults(BaseModel):\n",
    "    election_name: str = Field(alias='electionName')\n",
    "    election_date: str = Field(alias='electionDate')\n",
    "    local_results: List[LocalResult] = Field(alias='localResults')"
   ]
  },
  {
   "cell_type": "code",
   "execution_count": 3,
   "id": "cbf383cb-3ad6-4680-af56-af3f590554ac",
   "metadata": {},
   "outputs": [],
   "source": [
    "with open('./20221220__ga__special__state__house__129.json', 'r') as f:\n",
    "    data = f.read()"
   ]
  },
  {
   "cell_type": "code",
   "execution_count": 4,
   "id": "72287787-744f-4c71-b6a5-6e1292ce7f95",
   "metadata": {},
   "outputs": [],
   "source": [
    "m = ElectionResults.model_validate(\n",
    "    pydantic_core.from_json(data)\n",
    ")"
   ]
  },
  {
   "cell_type": "code",
   "execution_count": 5,
   "id": "4b1e36ca-56a9-4efa-aa3c-08209a54ea6d",
   "metadata": {},
   "outputs": [
    {
     "data": {
      "text/plain": [
       "ElectionResults(election_name='December 20, 2022 GA House District 129 - Special Election', election_date='2022-12-20', local_results=[LocalResult(county='Richmond County', ballot_items=[BallotItem(office='State House of Representatives - District 129 - Dem', ballot_options=[BallotOption(candidate='Scott Cambers', total_votes=244, party='DEM', group_results=[GroupResult(vote_type='Election Day Votes', votes=89), GroupResult(vote_type='Absentee by Mail Votes', votes=2), GroupResult(vote_type='Advance Voting Votes', votes=153), GroupResult(vote_type='Provisional Votes', votes=0)]), BallotOption(candidate='Davis Green', total_votes=158, party='DEM', group_results=[GroupResult(vote_type='Election Day Votes', votes=50), GroupResult(vote_type='Absentee by Mail Votes', votes=2), GroupResult(vote_type='Advance Voting Votes', votes=106), GroupResult(vote_type='Provisional Votes', votes=0)]), BallotOption(candidate='Karlton L. Howard', total_votes=1810, party='DEM', group_results=[GroupResult(vote_type='Election Day Votes', votes=709), GroupResult(vote_type='Absentee by Mail Votes', votes=31), GroupResult(vote_type='Advance Voting Votes', votes=1070), GroupResult(vote_type='Provisional Votes', votes=0)]), BallotOption(candidate='Brad Owens', total_votes=435, party='DEM', group_results=[GroupResult(vote_type='Election Day Votes', votes=227), GroupResult(vote_type='Absentee by Mail Votes', votes=1), GroupResult(vote_type='Advance Voting Votes', votes=207), GroupResult(vote_type='Provisional Votes', votes=0)])])])])"
      ]
     },
     "execution_count": 5,
     "metadata": {},
     "output_type": "execute_result"
    }
   ],
   "source": [
    "m"
   ]
  },
  {
   "cell_type": "code",
   "execution_count": 6,
   "id": "0b6dd9a6-02e4-4cf4-9de5-e5c15978e86e",
   "metadata": {},
   "outputs": [],
   "source": [
    "data = m.model_dump_json()"
   ]
  },
  {
   "cell_type": "code",
   "execution_count": 7,
   "id": "b00ddcb6-acbc-45a5-b006-757b22703176",
   "metadata": {},
   "outputs": [
    {
     "data": {
      "text/plain": [
       "'{\"election_name\":\"December 20, 2022 GA House District 129 - Special Election\",\"election_date\":\"2022-12-20\",\"local_results\":[{\"county\":\"Richmond County\",\"ballot_items\":[{\"office\":\"State House of Representatives - District 129 - Dem\",\"ballot_options\":[{\"candidate\":\"Scott Cambers\",\"total_votes\":244,\"party\":\"DEM\",\"group_results\":[{\"vote_type\":\"Election Day Votes\",\"votes\":89},{\"vote_type\":\"Absentee by Mail Votes\",\"votes\":2},{\"vote_type\":\"Advance Voting Votes\",\"votes\":153},{\"vote_type\":\"Provisional Votes\",\"votes\":0}]},{\"candidate\":\"Davis Green\",\"total_votes\":158,\"party\":\"DEM\",\"group_results\":[{\"vote_type\":\"Election Day Votes\",\"votes\":50},{\"vote_type\":\"Absentee by Mail Votes\",\"votes\":2},{\"vote_type\":\"Advance Voting Votes\",\"votes\":106},{\"vote_type\":\"Provisional Votes\",\"votes\":0}]},{\"candidate\":\"Karlton L. Howard\",\"total_votes\":1810,\"party\":\"DEM\",\"group_results\":[{\"vote_type\":\"Election Day Votes\",\"votes\":709},{\"vote_type\":\"Absentee by Mail Votes\",\"votes\":31},{\"vote_type\":\"Advance Voting Votes\",\"votes\":1070},{\"vote_type\":\"Provisional Votes\",\"votes\":0}]},{\"candidate\":\"Brad Owens\",\"total_votes\":435,\"party\":\"DEM\",\"group_results\":[{\"vote_type\":\"Election Day Votes\",\"votes\":227},{\"vote_type\":\"Absentee by Mail Votes\",\"votes\":1},{\"vote_type\":\"Advance Voting Votes\",\"votes\":207},{\"vote_type\":\"Provisional Votes\",\"votes\":0}]}]}]}]}'"
      ]
     },
     "execution_count": 7,
     "metadata": {},
     "output_type": "execute_result"
    }
   ],
   "source": [
    "data"
   ]
  },
  {
   "cell_type": "code",
   "execution_count": 8,
   "id": "63053b05-5141-49d1-bd64-26257fcf0656",
   "metadata": {},
   "outputs": [],
   "source": [
    "def flatten_election_data(data):\n",
    "\n",
    "    json_data = json.loads(data)\n",
    "    \n",
    "    # Extract relevant data from the JSON\n",
    "    election_name = json_data.get('election_name')\n",
    "    election_date = json_data.get('election_date')\n",
    "    \n",
    "    # Initialize an empty list to store the flattened data\n",
    "    flattened_data = []\n",
    "    \n",
    "    # Iterate through each county's results\n",
    "    for result in json_data.get('local_results'):\n",
    "        for ballot_item in result.get('ballot_items'):\n",
    "            for ballot_option in ballot_item.get('ballot_options'):\n",
    "                for group_result in ballot_option.get('group_results'):\n",
    "                    flattened_data.append(\n",
    "                        {\n",
    "                            'election_name': election_name,\n",
    "                            'election_date': election_date,\n",
    "                            'county': result.get('county'),\n",
    "                            'office': ballot_item.get('office'),\n",
    "                            'candidate': ballot_option.get('candidate'),\n",
    "                            'party': ballot_option.get('party'),\n",
    "                            'vote_type': group_result.get('vote_type'),\n",
    "                            'votes': group_result.get('votes'),\n",
    "                            'total_votes': ballot_option.get('total_votes')\n",
    "                        }\n",
    "                    )\n",
    "\n",
    "    return flattened_data"
   ]
  },
  {
   "cell_type": "code",
   "execution_count": 9,
   "id": "76f5c2fc-18fd-48bc-875f-56790943e7b0",
   "metadata": {},
   "outputs": [],
   "source": [
    "flatten_data = flatten_election_data(data)"
   ]
  },
  {
   "cell_type": "code",
   "execution_count": 10,
   "id": "471a1f83-f1b5-48b5-beb2-727c305fa7e2",
   "metadata": {},
   "outputs": [],
   "source": [
    "with open('data.json', 'w') as f:\n",
    "    json.dump(flatten_data, f)"
   ]
  },
  {
   "cell_type": "code",
   "execution_count": null,
   "id": "3524b31f-cf29-414d-9448-65806de9d114",
   "metadata": {},
   "outputs": [],
   "source": []
  }
 ],
 "metadata": {
  "kernelspec": {
   "display_name": "Python 3 (ipykernel)",
   "language": "python",
   "name": "python3"
  },
  "language_info": {
   "codemirror_mode": {
    "name": "ipython",
    "version": 3
   },
   "file_extension": ".py",
   "mimetype": "text/x-python",
   "name": "python",
   "nbconvert_exporter": "python",
   "pygments_lexer": "ipython3",
   "version": "3.11.9"
  }
 },
 "nbformat": 4,
 "nbformat_minor": 5
}
