{
 "cells": [
  {
   "cell_type": "code",
   "execution_count": 1,
   "id": "daily-sellers",
   "metadata": {},
   "outputs": [],
   "source": [
    "import pandas as pd"
   ]
  },
  {
   "cell_type": "code",
   "execution_count": 47,
   "id": "loved-filling",
   "metadata": {},
   "outputs": [],
   "source": [
    "df = pd.read_csv('20131203__ga__special__general__runoff.csv')"
   ]
  },
  {
   "cell_type": "code",
   "execution_count": 48,
   "id": "perceived-relaxation",
   "metadata": {},
   "outputs": [
    {
     "data": {
      "text/html": [
       "<div>\n",
       "<style scoped>\n",
       "    .dataframe tbody tr th:only-of-type {\n",
       "        vertical-align: middle;\n",
       "    }\n",
       "\n",
       "    .dataframe tbody tr th {\n",
       "        vertical-align: top;\n",
       "    }\n",
       "\n",
       "    .dataframe thead th {\n",
       "        text-align: right;\n",
       "    }\n",
       "</style>\n",
       "<table border=\"1\" class=\"dataframe\">\n",
       "  <thead>\n",
       "    <tr style=\"text-align: right;\">\n",
       "      <th></th>\n",
       "      <th>county</th>\n",
       "      <th>precinct</th>\n",
       "      <th>office</th>\n",
       "      <th>district</th>\n",
       "      <th>party</th>\n",
       "      <th>candidate</th>\n",
       "      <th>election_day_votes</th>\n",
       "      <th>advanced_votes</th>\n",
       "      <th>absentee_by_mail_votes</th>\n",
       "      <th>provisional_votes</th>\n",
       "    </tr>\n",
       "  </thead>\n",
       "  <tbody>\n",
       "    <tr>\n",
       "      <th>0</th>\n",
       "      <td>Cobb</td>\n",
       "      <td>Bells Ferry 03</td>\n",
       "      <td>State Senate</td>\n",
       "      <td>14</td>\n",
       "      <td>Republican</td>\n",
       "      <td>MATT LAUGHRIDGE</td>\n",
       "      <td>13</td>\n",
       "      <td>0</td>\n",
       "      <td>0</td>\n",
       "      <td>0</td>\n",
       "    </tr>\n",
       "    <tr>\n",
       "      <th>1</th>\n",
       "      <td>Cobb</td>\n",
       "      <td>Big Shanty 02</td>\n",
       "      <td>State Senate</td>\n",
       "      <td>14</td>\n",
       "      <td>Republican</td>\n",
       "      <td>MATT LAUGHRIDGE</td>\n",
       "      <td>14</td>\n",
       "      <td>0</td>\n",
       "      <td>0</td>\n",
       "      <td>0</td>\n",
       "    </tr>\n",
       "    <tr>\n",
       "      <th>2</th>\n",
       "      <td>Cobb</td>\n",
       "      <td>Kennesaw 1A</td>\n",
       "      <td>State Senate</td>\n",
       "      <td>14</td>\n",
       "      <td>Republican</td>\n",
       "      <td>MATT LAUGHRIDGE</td>\n",
       "      <td>0</td>\n",
       "      <td>0</td>\n",
       "      <td>0</td>\n",
       "      <td>0</td>\n",
       "    </tr>\n",
       "    <tr>\n",
       "      <th>3</th>\n",
       "      <td>Cobb</td>\n",
       "      <td>Palmer 01</td>\n",
       "      <td>State Senate</td>\n",
       "      <td>14</td>\n",
       "      <td>Republican</td>\n",
       "      <td>MATT LAUGHRIDGE</td>\n",
       "      <td>2</td>\n",
       "      <td>0</td>\n",
       "      <td>0</td>\n",
       "      <td>0</td>\n",
       "    </tr>\n",
       "    <tr>\n",
       "      <th>4</th>\n",
       "      <td>Cobb</td>\n",
       "      <td>Pitner 01</td>\n",
       "      <td>State Senate</td>\n",
       "      <td>14</td>\n",
       "      <td>Republican</td>\n",
       "      <td>MATT LAUGHRIDGE</td>\n",
       "      <td>10</td>\n",
       "      <td>0</td>\n",
       "      <td>0</td>\n",
       "      <td>0</td>\n",
       "    </tr>\n",
       "  </tbody>\n",
       "</table>\n",
       "</div>"
      ],
      "text/plain": [
       "  county        precinct        office  district       party        candidate  \\\n",
       "0   Cobb  Bells Ferry 03  State Senate        14  Republican  MATT LAUGHRIDGE   \n",
       "1   Cobb   Big Shanty 02  State Senate        14  Republican  MATT LAUGHRIDGE   \n",
       "2   Cobb     Kennesaw 1A  State Senate        14  Republican  MATT LAUGHRIDGE   \n",
       "3   Cobb       Palmer 01  State Senate        14  Republican  MATT LAUGHRIDGE   \n",
       "4   Cobb       Pitner 01  State Senate        14  Republican  MATT LAUGHRIDGE   \n",
       "\n",
       "   election_day_votes  advanced_votes  absentee_by_mail_votes  \\\n",
       "0                  13               0                       0   \n",
       "1                  14               0                       0   \n",
       "2                   0               0                       0   \n",
       "3                   2               0                       0   \n",
       "4                  10               0                       0   \n",
       "\n",
       "   provisional_votes  \n",
       "0                  0  \n",
       "1                  0  \n",
       "2                  0  \n",
       "3                  0  \n",
       "4                  0  "
      ]
     },
     "execution_count": 48,
     "metadata": {},
     "output_type": "execute_result"
    }
   ],
   "source": [
    "df.head()"
   ]
  },
  {
   "cell_type": "code",
   "execution_count": 49,
   "id": "applicable-patrol",
   "metadata": {},
   "outputs": [],
   "source": [
    "df['votes'] = df['election_day_votes'] + df['advanced_votes'] + df['absentee_by_mail_votes'] + df['provisional_votes']"
   ]
  },
  {
   "cell_type": "code",
   "execution_count": 50,
   "id": "mediterranean-balance",
   "metadata": {},
   "outputs": [
    {
     "data": {
      "text/plain": [
       "office        district  candidate         party     \n",
       "State House   104       CHUCK EFSTRATION  Republican    1230\n",
       "                        TERESA CANTRELL   Republican     675\n",
       "              127       BRIAN PRINCE      Democrat      1444\n",
       "                        DIANE B. EVANS    Democrat      1111\n",
       "State Senate  14        BRUCE THOMPSON    Republican    2982\n",
       "                        MATT LAUGHRIDGE   Republican    1356\n",
       "Name: votes, dtype: int64"
      ]
     },
     "execution_count": 50,
     "metadata": {},
     "output_type": "execute_result"
    }
   ],
   "source": [
    "df.groupby(['office', 'district', 'candidate', 'party'])['votes'].sum()"
   ]
  },
  {
   "cell_type": "code",
   "execution_count": null,
   "id": "careful-refund",
   "metadata": {},
   "outputs": [],
   "source": []
  },
  {
   "cell_type": "code",
   "execution_count": null,
   "id": "delayed-characterization",
   "metadata": {},
   "outputs": [],
   "source": []
  },
  {
   "cell_type": "code",
   "execution_count": null,
   "id": "copyrighted-humidity",
   "metadata": {},
   "outputs": [],
   "source": []
  },
  {
   "cell_type": "code",
   "execution_count": null,
   "id": "complete-leone",
   "metadata": {},
   "outputs": [],
   "source": []
  },
  {
   "cell_type": "code",
   "execution_count": null,
   "id": "expected-steam",
   "metadata": {},
   "outputs": [],
   "source": []
  },
  {
   "cell_type": "code",
   "execution_count": null,
   "id": "purple-perception",
   "metadata": {},
   "outputs": [],
   "source": []
  },
  {
   "cell_type": "code",
   "execution_count": 22,
   "id": "electronic-sullivan",
   "metadata": {},
   "outputs": [],
   "source": [
    "df_special = df.loc[df['district'].isin([11,21])]"
   ]
  },
  {
   "cell_type": "code",
   "execution_count": 23,
   "id": "compact-atlas",
   "metadata": {},
   "outputs": [
    {
     "data": {
      "text/plain": [
       "office        district  candidate      party     \n",
       "State House   21        BRIAN LAURENS  Republican     599\n",
       "                        SCOT TURNER    Republican     903\n",
       "State Senate  11        DEAN BURKE     Republican    7739\n",
       "                        MIKE KEOWN     Republican    5507\n",
       "Name: votes, dtype: int64"
      ]
     },
     "execution_count": 23,
     "metadata": {},
     "output_type": "execute_result"
    }
   ],
   "source": [
    "df_special.groupby(['office', 'district', 'candidate', 'party'])['votes'].sum()"
   ]
  },
  {
   "cell_type": "code",
   "execution_count": 25,
   "id": "funny-ballot",
   "metadata": {},
   "outputs": [],
   "source": [
    "file_name = '20130205__ga__special__general.csv'\n",
    "\n",
    "columns = ['county', 'precinct', 'office', 'district', 'party', 'candidate', 'election_day_votes', 'advanced_votes', 'absentee_by_mail_votes', 'provisional_votes']\n",
    "\n",
    "df_special[columns].to_csv(file_name, index=False)"
   ]
  },
  {
   "cell_type": "code",
   "execution_count": 26,
   "id": "olympic-catch",
   "metadata": {},
   "outputs": [],
   "source": [
    "df_runoff = df.loc[df['district'].isin([71])]"
   ]
  },
  {
   "cell_type": "code",
   "execution_count": 27,
   "id": "limiting-vertex",
   "metadata": {},
   "outputs": [
    {
     "data": {
      "text/plain": [
       "office       district  candidate          party     \n",
       "State House  71        CYNTHIA C BENNETT  Democrat       457\n",
       "                       DARRYL MARMON      Republican     459\n",
       "                       DAVID J. STOVER    Republican    1166\n",
       "                       MICHAEL FARBO JR   Republican      70\n",
       "                       RICHARD WEISSER    Republican      35\n",
       "                       THOMAS G. CRYMES   Republican     545\n",
       "Name: votes, dtype: int64"
      ]
     },
     "execution_count": 27,
     "metadata": {},
     "output_type": "execute_result"
    }
   ],
   "source": [
    "df_runoff.groupby(['office', 'district', 'candidate', 'party'])['votes'].sum()"
   ]
  },
  {
   "cell_type": "code",
   "execution_count": 28,
   "id": "direct-breakdown",
   "metadata": {},
   "outputs": [],
   "source": [
    "file_name = '20130205__ga__special__general_runoff.csv'\n",
    "\n",
    "columns = ['county', 'precinct', 'office', 'district', 'party', 'candidate', 'election_day_votes', 'advanced_votes', 'absentee_by_mail_votes', 'provisional_votes']\n",
    "\n",
    "df_runoff[columns].to_csv(file_name, index=False)"
   ]
  },
  {
   "cell_type": "code",
   "execution_count": null,
   "id": "bored-statistics",
   "metadata": {},
   "outputs": [],
   "source": []
  }
 ],
 "metadata": {
  "kernelspec": {
   "display_name": "Python 3",
   "language": "python",
   "name": "python3"
  },
  "language_info": {
   "codemirror_mode": {
    "name": "ipython",
    "version": 3
   },
   "file_extension": ".py",
   "mimetype": "text/x-python",
   "name": "python",
   "nbconvert_exporter": "python",
   "pygments_lexer": "ipython3",
   "version": "3.9.1"
  }
 },
 "nbformat": 4,
 "nbformat_minor": 5
}
